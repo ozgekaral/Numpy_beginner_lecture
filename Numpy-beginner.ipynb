{
 "cells": [
  {
   "cell_type": "markdown",
   "id": "3dfe6b27",
   "metadata": {},
   "source": [
    "## NUMPY ##"
   ]
  },
  {
   "cell_type": "markdown",
   "id": "fd2bbbd3",
   "metadata": {},
   "source": [
    "#### Numpy keep better in the ram and cost least for us.But we have to define the same data type. [int,int,int] or [str,str,str,str]  ####\n",
    "#### We able to calculate high level numerical operations and vectorial operations. ####"
   ]
  },
  {
   "cell_type": "code",
   "execution_count": 3,
   "id": "f89e36dc",
   "metadata": {},
   "outputs": [],
   "source": [
    "import numpy as np"
   ]
  },
  {
   "cell_type": "code",
   "execution_count": 5,
   "id": "7d666343",
   "metadata": {},
   "outputs": [],
   "source": [
    "x=[7,8,9,10]\n",
    "y=[2,3,4,5]              #x and y are list."
   ]
  },
  {
   "cell_type": "code",
   "execution_count": 13,
   "id": "72adfad2",
   "metadata": {},
   "outputs": [],
   "source": [
    "x=np.array([7,8,9,10])         #'array' is the daa type of numpy library\n",
    "y=np.array([2,3,4,5])"
   ]
  },
  {
   "cell_type": "code",
   "execution_count": 41,
   "id": "2443bd9b",
   "metadata": {},
   "outputs": [
    {
     "data": {
      "text/plain": [
       "array([14, 24, 36, 50])"
      ]
     },
     "execution_count": 41,
     "metadata": {},
     "output_type": "execute_result"
    }
   ],
   "source": [
    "x*y                             "
   ]
  },
  {
   "cell_type": "code",
   "execution_count": 40,
   "id": "96740a9e",
   "metadata": {},
   "outputs": [
    {
     "data": {
      "text/plain": [
       "array([14, 24, 36, 50])"
      ]
     },
     "execution_count": 40,
     "metadata": {},
     "output_type": "execute_result"
    }
   ],
   "source": [
    "a=x*y                           #We save array that create\n",
    "a"
   ]
  },
  {
   "cell_type": "code",
   "execution_count": 43,
   "id": "8f72a9b1",
   "metadata": {},
   "outputs": [
    {
     "data": {
      "text/plain": [
       "1"
      ]
     },
     "execution_count": 43,
     "metadata": {},
     "output_type": "execute_result"
    }
   ],
   "source": [
    "a.ndim                         #'ndim' is dimension length of array"
   ]
  },
  {
   "cell_type": "code",
   "execution_count": 44,
   "id": "2b454f04",
   "metadata": {},
   "outputs": [
    {
     "data": {
      "text/plain": [
       "(4,)"
      ]
     },
     "execution_count": 44,
     "metadata": {},
     "output_type": "execute_result"
    }
   ],
   "source": [
    "a.shape             #'shape' is dimension knowledge of array.'4' is amount of element.After ',' is dimension knowledge of array"
   ]
  },
  {
   "cell_type": "code",
   "execution_count": 45,
   "id": "f71bc55f",
   "metadata": {},
   "outputs": [
    {
     "data": {
      "text/plain": [
       "4"
      ]
     },
     "execution_count": 45,
     "metadata": {},
     "output_type": "execute_result"
    }
   ],
   "source": [
    "a.size               #'size' give us amount of element."
   ]
  },
  {
   "cell_type": "code",
   "execution_count": 46,
   "id": "b2263243",
   "metadata": {},
   "outputs": [
    {
     "data": {
      "text/plain": [
       "dtype('int32')"
      ]
     },
     "execution_count": 46,
     "metadata": {},
     "output_type": "execute_result"
    }
   ],
   "source": [
    "a.dtype                  #'dtype' give us the type of integer."
   ]
  },
  {
   "cell_type": "code",
   "execution_count": 48,
   "id": "25021e04",
   "metadata": {},
   "outputs": [
    {
     "data": {
      "text/plain": [
       "2"
      ]
     },
     "execution_count": 48,
     "metadata": {},
     "output_type": "execute_result"
    }
   ],
   "source": [
    "z.ndim"
   ]
  },
  {
   "cell_type": "code",
   "execution_count": 49,
   "id": "39ca6c23",
   "metadata": {},
   "outputs": [
    {
     "data": {
      "text/plain": [
       "(4, 5)"
      ]
     },
     "execution_count": 49,
     "metadata": {},
     "output_type": "execute_result"
    }
   ],
   "source": [
    "z.shape"
   ]
  },
  {
   "cell_type": "code",
   "execution_count": 50,
   "id": "eb7b0aeb",
   "metadata": {},
   "outputs": [
    {
     "data": {
      "text/plain": [
       "20"
      ]
     },
     "execution_count": 50,
     "metadata": {},
     "output_type": "execute_result"
    }
   ],
   "source": [
    "z.size "
   ]
  },
  {
   "cell_type": "code",
   "execution_count": 51,
   "id": "7271d238",
   "metadata": {},
   "outputs": [
    {
     "data": {
      "text/plain": [
       "dtype('float64')"
      ]
     },
     "execution_count": 51,
     "metadata": {},
     "output_type": "execute_result"
    }
   ],
   "source": [
    "z.dtype"
   ]
  },
  {
   "cell_type": "code",
   "execution_count": 9,
   "id": "37b0ff22",
   "metadata": {},
   "outputs": [
    {
     "data": {
      "text/plain": [
       "numpy.ndarray"
      ]
     },
     "execution_count": 9,
     "metadata": {},
     "output_type": "execute_result"
    }
   ],
   "source": [
    "type(x)             #'x' is a numpy array"
   ]
  },
  {
   "cell_type": "code",
   "execution_count": 10,
   "id": "8439de8d",
   "metadata": {},
   "outputs": [
    {
     "data": {
      "text/plain": [
       "numpy.ndarray"
      ]
     },
     "execution_count": 10,
     "metadata": {},
     "output_type": "execute_result"
    }
   ],
   "source": [
    "type(y)           #'y is a numpy array"
   ]
  },
  {
   "cell_type": "code",
   "execution_count": 12,
   "id": "6825fac0",
   "metadata": {},
   "outputs": [
    {
     "data": {
      "text/plain": [
       "array([ 7.58,  8.  ,  9.  , 10.  ])"
      ]
     },
     "execution_count": 12,
     "metadata": {},
     "output_type": "execute_result"
    }
   ],
   "source": [
    "x=np.array([7.58,8,9,10])              # all the them become the same type.\n",
    "x      "
   ]
  },
  {
   "cell_type": "code",
   "execution_count": 19,
   "id": "1a890618",
   "metadata": {},
   "outputs": [
    {
     "data": {
      "text/plain": [
       "array([ 7,  8,  9, 10])"
      ]
     },
     "execution_count": 19,
     "metadata": {},
     "output_type": "execute_result"
    }
   ],
   "source": [
    "x=np.array([7.58,8,9,10], dtype='int')    \n",
    "x"
   ]
  },
  {
   "cell_type": "code",
   "execution_count": 18,
   "id": "2e88691f",
   "metadata": {},
   "outputs": [
    {
     "data": {
      "text/plain": [
       "array(['7.58', '8', '9', '10'], dtype='<U4')"
      ]
     },
     "execution_count": 18,
     "metadata": {},
     "output_type": "execute_result"
    }
   ],
   "source": [
    "x=np.array([7.58,8,9,10], dtype='str')  \n",
    "x"
   ]
  },
  {
   "cell_type": "code",
   "execution_count": null,
   "id": "37a05b39",
   "metadata": {},
   "outputs": [],
   "source": []
  },
  {
   "cell_type": "markdown",
   "id": "2fb2031b",
   "metadata": {},
   "source": [
    "### Array Creation ###"
   ]
  },
  {
   "cell_type": "code",
   "execution_count": 20,
   "id": "800b05d3",
   "metadata": {},
   "outputs": [
    {
     "data": {
      "text/plain": [
       "array([0., 0., 0., 0., 0., 0., 0., 0., 0., 0., 0., 0.])"
      ]
     },
     "execution_count": 20,
     "metadata": {},
     "output_type": "execute_result"
    }
   ],
   "source": [
    "np.zeros(12)                                 #fonk ve döngüler gezmek aralık olşturmak-ızgaralarda gezinmek için."
   ]
  },
  {
   "cell_type": "code",
   "execution_count": 23,
   "id": "ed4ac6f9",
   "metadata": {},
   "outputs": [
    {
     "data": {
      "text/plain": [
       "array(['1', '1', '1', '1', '1', '1', '1', '1', '1', '1', '1', '1', '1',\n",
       "       '1', '1', '1', '1', '1', '1', '1', '1', '1', '1', '1', '1'],\n",
       "      dtype='<U1')"
      ]
     },
     "execution_count": 23,
     "metadata": {},
     "output_type": "execute_result"
    }
   ],
   "source": [
    "np.ones((25), dtype='str')                               "
   ]
  },
  {
   "cell_type": "markdown",
   "id": "d40f46d2",
   "metadata": {},
   "source": [
    "#### If we write different number from '0,1 and 2', we use 'full' function. ####"
   ]
  },
  {
   "cell_type": "code",
   "execution_count": 27,
   "id": "523e4f71",
   "metadata": {},
   "outputs": [
    {
     "data": {
      "text/plain": [
       "array([[5, 5, 5, 5, 5],\n",
       "       [5, 5, 5, 5, 5],\n",
       "       [5, 5, 5, 5, 5],\n",
       "       [5, 5, 5, 5, 5]])"
      ]
     },
     "execution_count": 27,
     "metadata": {},
     "output_type": "execute_result"
    }
   ],
   "source": [
    "np.full((4,5),5)                         "
   ]
  },
  {
   "cell_type": "code",
   "execution_count": 25,
   "id": "0ad696b2",
   "metadata": {},
   "outputs": [
    {
     "data": {
      "text/plain": [
       "array([[1, 1],\n",
       "       [1, 1],\n",
       "       [1, 1],\n",
       "       [1, 1],\n",
       "       [1, 1],\n",
       "       [1, 1]])"
      ]
     },
     "execution_count": 25,
     "metadata": {},
     "output_type": "execute_result"
    }
   ],
   "source": [
    "np.ones((6,2), dtype='int')"
   ]
  },
  {
   "cell_type": "code",
   "execution_count": 34,
   "id": "a68da261",
   "metadata": {},
   "outputs": [
    {
     "data": {
      "text/plain": [
       "array([5.        , 5.11111111, 5.22222222, 5.33333333, 5.44444444,\n",
       "       5.55555556, 5.66666667, 5.77777778, 5.88888889, 6.        ])"
      ]
     },
     "execution_count": 34,
     "metadata": {},
     "output_type": "execute_result"
    }
   ],
   "source": [
    "np.linspace(5,6, 10)           #'linspace' create ten numbers from 5 to 6 ."
   ]
  },
  {
   "cell_type": "code",
   "execution_count": 35,
   "id": "3703c296",
   "metadata": {},
   "outputs": [
    {
     "data": {
      "text/plain": [
       "array([ 1,  3,  5,  7,  9, 11, 13, 15, 17, 19, 21, 23, 25, 27, 29])"
      ]
     },
     "execution_count": 35,
     "metadata": {},
     "output_type": "execute_result"
    }
   ],
   "source": [
    "np.arange(1,30, 2)            #'arange' give the range and rise as 'range' function."
   ]
  },
  {
   "cell_type": "markdown",
   "id": "4fad80c0",
   "metadata": {},
   "source": [
    "#### We create array ramdomly with normal distribution.First value(5) is average and second value(4) is standard deviation.(4,5) are the row and column of array. ####\n",
    " "
   ]
  },
  {
   "cell_type": "code",
   "execution_count": 47,
   "id": "466ffdb0",
   "metadata": {},
   "outputs": [
    {
     "data": {
      "text/plain": [
       "array([[ 7.19359222,  6.86660111,  6.47782171,  1.67832029,  3.56062975],\n",
       "       [ 8.2782432 ,  1.91978393,  0.8836276 ,  8.8567829 ,  4.82732997],\n",
       "       [ 6.53048698,  0.973569  ,  5.74609943,  3.21694363,  1.23019814],\n",
       "       [-2.514943  , -0.03662686,  8.49567317,  3.64561933,  8.5315377 ]])"
      ]
     },
     "execution_count": 47,
     "metadata": {},
     "output_type": "execute_result"
    }
   ],
   "source": [
    "z=np.random.normal(5,4, (4,5))\n",
    "z"
   ]
  },
  {
   "cell_type": "code",
   "execution_count": 38,
   "id": "ee0ee570",
   "metadata": {},
   "outputs": [
    {
     "data": {
      "text/plain": [
       "array([[20, 13, 18, 15,  9],\n",
       "       [25, 11, 15, 25,  6],\n",
       "       [17, 14, 25, 24,  9],\n",
       "       [ 5,  6, 23, 24,  8]])"
      ]
     },
     "execution_count": 38,
     "metadata": {},
     "output_type": "execute_result"
    }
   ],
   "source": [
    "np.random.randint(5,30, (4,5))"
   ]
  },
  {
   "cell_type": "markdown",
   "id": "bf9ff8d3",
   "metadata": {},
   "source": [
    "### Reshape ###"
   ]
  },
  {
   "cell_type": "code",
   "execution_count": 54,
   "id": "4ee7554a",
   "metadata": {},
   "outputs": [
    {
     "data": {
      "text/plain": [
       "array([ 4,  7, 10, 13])"
      ]
     },
     "execution_count": 54,
     "metadata": {},
     "output_type": "execute_result"
    }
   ],
   "source": [
    "np.arange(4,15,3)                          "
   ]
  },
  {
   "cell_type": "code",
   "execution_count": 72,
   "id": "daffe64d",
   "metadata": {},
   "outputs": [
    {
     "data": {
      "text/plain": [
       "array([ 4,  5,  6,  7,  8,  9, 10, 11, 12, 13, 14, 15])"
      ]
     },
     "execution_count": 72,
     "metadata": {},
     "output_type": "execute_result"
    }
   ],
   "source": [
    "np.arange(4,16)"
   ]
  },
  {
   "cell_type": "code",
   "execution_count": 73,
   "id": "c027282b",
   "metadata": {},
   "outputs": [
    {
     "data": {
      "text/plain": [
       "array([[ 4,  5,  6],\n",
       "       [ 7,  8,  9],\n",
       "       [10, 11, 12],\n",
       "       [13, 14, 15]])"
      ]
     },
     "execution_count": 73,
     "metadata": {},
     "output_type": "execute_result"
    }
   ],
   "source": [
    "np.arange(4,16).reshape((4,3))   #We use 'reshape' one more dimension from one or \n",
    "                                 #we want to change dimension as the same value we change dimension "
   ]
  },
  {
   "cell_type": "code",
   "execution_count": 103,
   "id": "0e79462a",
   "metadata": {},
   "outputs": [
    {
     "data": {
      "text/plain": [
       "array([[1, 2, 3],\n",
       "       [4, 5, 6],\n",
       "       [7, 8, 9]])"
      ]
     },
     "execution_count": 103,
     "metadata": {},
     "output_type": "execute_result"
    }
   ],
   "source": [
    "n=np.arange(1,10).reshape((3,3))\n",
    "n"
   ]
  },
  {
   "cell_type": "code",
   "execution_count": 90,
   "id": "b0cb0e9c",
   "metadata": {},
   "outputs": [
    {
     "data": {
      "text/plain": [
       "array([1, 2, 3, 4, 5, 6, 7, 8, 9])"
      ]
     },
     "execution_count": 90,
     "metadata": {},
     "output_type": "execute_result"
    }
   ],
   "source": [
    "c=np.arange(1,10)\n",
    "c"
   ]
  },
  {
   "cell_type": "code",
   "execution_count": 91,
   "id": "6fe67868",
   "metadata": {},
   "outputs": [
    {
     "data": {
      "text/plain": [
       "1"
      ]
     },
     "execution_count": 91,
     "metadata": {},
     "output_type": "execute_result"
    }
   ],
   "source": [
    "c.ndim"
   ]
  },
  {
   "cell_type": "code",
   "execution_count": 92,
   "id": "57169fa6",
   "metadata": {},
   "outputs": [
    {
     "data": {
      "text/plain": [
       "array([[1, 2, 3, 4, 5, 6, 7, 8, 9]])"
      ]
     },
     "execution_count": 92,
     "metadata": {},
     "output_type": "execute_result"
    }
   ],
   "source": [
    "ı=c.reshape((1,9))                           \n",
    "ı"
   ]
  },
  {
   "cell_type": "code",
   "execution_count": 93,
   "id": "7105dc5f",
   "metadata": {},
   "outputs": [
    {
     "data": {
      "text/plain": [
       "2"
      ]
     },
     "execution_count": 93,
     "metadata": {},
     "output_type": "execute_result"
    }
   ],
   "source": [
    "ı.ndim"
   ]
  },
  {
   "cell_type": "markdown",
   "id": "7fd737fc",
   "metadata": {},
   "source": [
    "### Concatenate ###"
   ]
  },
  {
   "cell_type": "code",
   "execution_count": 97,
   "id": "9cb9ca13",
   "metadata": {},
   "outputs": [
    {
     "data": {
      "text/plain": [
       "array([ 7,  8,  9, 10])"
      ]
     },
     "execution_count": 97,
     "metadata": {},
     "output_type": "execute_result"
    }
   ],
   "source": [
    "x"
   ]
  },
  {
   "cell_type": "code",
   "execution_count": 98,
   "id": "ed29207e",
   "metadata": {},
   "outputs": [
    {
     "data": {
      "text/plain": [
       "array([2, 3, 4, 5])"
      ]
     },
     "execution_count": 98,
     "metadata": {},
     "output_type": "execute_result"
    }
   ],
   "source": [
    "y"
   ]
  },
  {
   "cell_type": "code",
   "execution_count": 100,
   "id": "5ba70abc",
   "metadata": {},
   "outputs": [
    {
     "data": {
      "text/plain": [
       "array([ 7,  8,  9, 10,  2,  3,  4,  5])"
      ]
     },
     "execution_count": 100,
     "metadata": {},
     "output_type": "execute_result"
    }
   ],
   "source": [
    "np.concatenate([x,y])"
   ]
  },
  {
   "cell_type": "code",
   "execution_count": 104,
   "id": "7b07a748",
   "metadata": {},
   "outputs": [
    {
     "data": {
      "text/plain": [
       "array([[1, 2, 3],\n",
       "       [4, 5, 6],\n",
       "       [7, 8, 9]])"
      ]
     },
     "execution_count": 104,
     "metadata": {},
     "output_type": "execute_result"
    }
   ],
   "source": [
    "n"
   ]
  },
  {
   "cell_type": "code",
   "execution_count": 105,
   "id": "0d278392",
   "metadata": {},
   "outputs": [
    {
     "data": {
      "text/plain": [
       "array([[1, 2, 3],\n",
       "       [4, 5, 6],\n",
       "       [7, 8, 9],\n",
       "       [1, 2, 3],\n",
       "       [4, 5, 6],\n",
       "       [7, 8, 9]])"
      ]
     },
     "execution_count": 105,
     "metadata": {},
     "output_type": "execute_result"
    }
   ],
   "source": [
    "np.concatenate([n,n])"
   ]
  },
  {
   "cell_type": "code",
   "execution_count": 106,
   "id": "d9b57b58",
   "metadata": {},
   "outputs": [
    {
     "data": {
      "text/plain": [
       "array([[1, 2, 3],\n",
       "       [4, 5, 6],\n",
       "       [7, 8, 9],\n",
       "       [1, 2, 3],\n",
       "       [4, 5, 6],\n",
       "       [7, 8, 9]])"
      ]
     },
     "execution_count": 106,
     "metadata": {},
     "output_type": "execute_result"
    }
   ],
   "source": [
    "np.concatenate([n,n], axis=0)           # 0=row"
   ]
  },
  {
   "cell_type": "code",
   "execution_count": 107,
   "id": "152a9cec",
   "metadata": {},
   "outputs": [
    {
     "data": {
      "text/plain": [
       "array([[1, 2, 3, 1, 2, 3],\n",
       "       [4, 5, 6, 4, 5, 6],\n",
       "       [7, 8, 9, 7, 8, 9]])"
      ]
     },
     "execution_count": 107,
     "metadata": {},
     "output_type": "execute_result"
    }
   ],
   "source": [
    "np.concatenate([n,n], axis=1)          #1=column"
   ]
  },
  {
   "cell_type": "markdown",
   "id": "4acc50b3",
   "metadata": {},
   "source": [
    "#### Split ####"
   ]
  },
  {
   "cell_type": "code",
   "execution_count": 108,
   "id": "98dcf750",
   "metadata": {},
   "outputs": [],
   "source": [
    "t=np.array([52,45,86,42,120])"
   ]
  },
  {
   "cell_type": "code",
   "execution_count": 111,
   "id": "e4aec8f8",
   "metadata": {},
   "outputs": [
    {
     "data": {
      "text/plain": [
       "[array([52, 45]), array([86, 42]), array([120])]"
      ]
     },
     "execution_count": 111,
     "metadata": {},
     "output_type": "execute_result"
    }
   ],
   "source": [
    "np.split(t, (2,4))                             #Split from second element and from fourth element."
   ]
  },
  {
   "cell_type": "code",
   "execution_count": 120,
   "id": "2d98613e",
   "metadata": {},
   "outputs": [],
   "source": [
    "w,q,r=np.split(t, (2,4))"
   ]
  },
  {
   "cell_type": "code",
   "execution_count": 121,
   "id": "c062b5c8",
   "metadata": {},
   "outputs": [
    {
     "data": {
      "text/plain": [
       "array([52, 45])"
      ]
     },
     "execution_count": 121,
     "metadata": {},
     "output_type": "execute_result"
    }
   ],
   "source": [
    "w"
   ]
  },
  {
   "cell_type": "code",
   "execution_count": 122,
   "id": "24722c7d",
   "metadata": {},
   "outputs": [
    {
     "data": {
      "text/plain": [
       "array([86, 42])"
      ]
     },
     "execution_count": 122,
     "metadata": {},
     "output_type": "execute_result"
    }
   ],
   "source": [
    "q"
   ]
  },
  {
   "cell_type": "code",
   "execution_count": 123,
   "id": "f14a252f",
   "metadata": {},
   "outputs": [
    {
     "data": {
      "text/plain": [
       "array([120])"
      ]
     },
     "execution_count": 123,
     "metadata": {},
     "output_type": "execute_result"
    }
   ],
   "source": [
    "r"
   ]
  },
  {
   "cell_type": "code",
   "execution_count": 114,
   "id": "ddf0cc92",
   "metadata": {},
   "outputs": [
    {
     "data": {
      "text/plain": [
       "array([[1, 2, 3],\n",
       "       [4, 5, 6],\n",
       "       [7, 8, 9]])"
      ]
     },
     "execution_count": 114,
     "metadata": {},
     "output_type": "execute_result"
    }
   ],
   "source": [
    "n"
   ]
  },
  {
   "cell_type": "code",
   "execution_count": 117,
   "id": "c7d16d5b",
   "metadata": {},
   "outputs": [
    {
     "data": {
      "text/plain": [
       "[array([[1, 2, 3]]), array([[4, 5, 6]]), array([[7, 8, 9]])]"
      ]
     },
     "execution_count": 117,
     "metadata": {},
     "output_type": "execute_result"
    }
   ],
   "source": [
    "np.split(n, (1,2))"
   ]
  },
  {
   "cell_type": "code",
   "execution_count": 137,
   "id": "8a07111d",
   "metadata": {},
   "outputs": [
    {
     "data": {
      "text/plain": [
       "array([[ 2,  4],\n",
       "       [ 6,  8],\n",
       "       [10, 12],\n",
       "       [14, 16],\n",
       "       [18, 20]])"
      ]
     },
     "execution_count": 137,
     "metadata": {},
     "output_type": "execute_result"
    }
   ],
   "source": [
    "d=np.arange(2,22, 2).reshape(5,2)\n",
    "d"
   ]
  },
  {
   "cell_type": "code",
   "execution_count": 139,
   "id": "fc9ed990",
   "metadata": {},
   "outputs": [
    {
     "data": {
      "text/plain": [
       "[array([[1, 2, 3],\n",
       "        [4, 5, 6]]),\n",
       " array([[7, 8, 9]])]"
      ]
     },
     "execution_count": 139,
     "metadata": {},
     "output_type": "execute_result"
    }
   ],
   "source": [
    "np.vsplit(n, [2])"
   ]
  },
  {
   "cell_type": "code",
   "execution_count": 142,
   "id": "b3629b6c",
   "metadata": {},
   "outputs": [],
   "source": [
    "on,b=np.vsplit(n, [2])"
   ]
  },
  {
   "cell_type": "code",
   "execution_count": 143,
   "id": "084d9f4d",
   "metadata": {},
   "outputs": [
    {
     "data": {
      "text/plain": [
       "array([[1, 2, 3],\n",
       "       [4, 5, 6]])"
      ]
     },
     "execution_count": 143,
     "metadata": {},
     "output_type": "execute_result"
    }
   ],
   "source": [
    "on"
   ]
  },
  {
   "cell_type": "code",
   "execution_count": 144,
   "id": "256cea75",
   "metadata": {},
   "outputs": [
    {
     "data": {
      "text/plain": [
       "array([[7, 8, 9]])"
      ]
     },
     "execution_count": 144,
     "metadata": {},
     "output_type": "execute_result"
    }
   ],
   "source": [
    "b"
   ]
  },
  {
   "cell_type": "code",
   "execution_count": 145,
   "id": "c7bf2590",
   "metadata": {},
   "outputs": [
    {
     "data": {
      "text/plain": [
       "[array([[1, 2],\n",
       "        [4, 5],\n",
       "        [7, 8]]),\n",
       " array([[3],\n",
       "        [6],\n",
       "        [9]])]"
      ]
     },
     "execution_count": 145,
     "metadata": {},
     "output_type": "execute_result"
    }
   ],
   "source": [
    "np.hsplit(n, [2])"
   ]
  },
  {
   "cell_type": "code",
   "execution_count": 146,
   "id": "795bc294",
   "metadata": {},
   "outputs": [],
   "source": [
    "on2,b2=np.hsplit(n, [2])"
   ]
  },
  {
   "cell_type": "code",
   "execution_count": 147,
   "id": "a0de4e5a",
   "metadata": {},
   "outputs": [
    {
     "data": {
      "text/plain": [
       "array([[1, 2],\n",
       "       [4, 5],\n",
       "       [7, 8]])"
      ]
     },
     "execution_count": 147,
     "metadata": {},
     "output_type": "execute_result"
    }
   ],
   "source": [
    "on2"
   ]
  },
  {
   "cell_type": "code",
   "execution_count": 148,
   "id": "90d1d803",
   "metadata": {},
   "outputs": [
    {
     "data": {
      "text/plain": [
       "array([[3],\n",
       "       [6],\n",
       "       [9]])"
      ]
     },
     "execution_count": 148,
     "metadata": {},
     "output_type": "execute_result"
    }
   ],
   "source": [
    "b2"
   ]
  },
  {
   "cell_type": "markdown",
   "id": "213a84a1",
   "metadata": {},
   "source": [
    "#### Sort ####"
   ]
  },
  {
   "cell_type": "code",
   "execution_count": 180,
   "id": "3749423e",
   "metadata": {},
   "outputs": [
    {
     "data": {
      "text/plain": [
       "array([[1, 2, 3],\n",
       "       [4, 5, 6],\n",
       "       [7, 8, 9]])"
      ]
     },
     "execution_count": 180,
     "metadata": {},
     "output_type": "execute_result"
    }
   ],
   "source": [
    "n"
   ]
  },
  {
   "cell_type": "code",
   "execution_count": 170,
   "id": "3376cd7b",
   "metadata": {},
   "outputs": [],
   "source": [
    "z=np.arange(18,0,-1)"
   ]
  },
  {
   "cell_type": "code",
   "execution_count": 171,
   "id": "aac27208",
   "metadata": {},
   "outputs": [
    {
     "data": {
      "text/plain": [
       "array([ 1,  2,  3,  4,  5,  6,  7,  8,  9, 10, 11, 12, 13, 14, 15, 16, 17,\n",
       "       18])"
      ]
     },
     "execution_count": 171,
     "metadata": {},
     "output_type": "execute_result"
    }
   ],
   "source": [
    "np.sort(z)                                                 #np.sort(z) does not change the sorting of the numbers."
   ]
  },
  {
   "cell_type": "code",
   "execution_count": 172,
   "id": "4d0a42f7",
   "metadata": {},
   "outputs": [
    {
     "data": {
      "text/plain": [
       "array([18, 17, 16, 15, 14, 13, 12, 11, 10,  9,  8,  7,  6,  5,  4,  3,  2,\n",
       "        1])"
      ]
     },
     "execution_count": 172,
     "metadata": {},
     "output_type": "execute_result"
    }
   ],
   "source": [
    "z"
   ]
  },
  {
   "cell_type": "code",
   "execution_count": 178,
   "id": "6fff59ef",
   "metadata": {},
   "outputs": [
    {
     "data": {
      "text/plain": [
       "array([ 1,  2,  3,  4,  5,  6,  7,  8,  9, 10, 11, 12, 13, 14, 15, 16, 17,\n",
       "       18])"
      ]
     },
     "execution_count": 178,
     "metadata": {},
     "output_type": "execute_result"
    }
   ],
   "source": [
    "z.sort()\n",
    "z"
   ]
  },
  {
   "cell_type": "code",
   "execution_count": 179,
   "id": "b6c02314",
   "metadata": {},
   "outputs": [
    {
     "data": {
      "text/plain": [
       "array([ 1,  2,  3,  4,  5,  6,  7,  8,  9, 10, 11, 12, 13, 14, 15, 16, 17,\n",
       "       18])"
      ]
     },
     "execution_count": 179,
     "metadata": {},
     "output_type": "execute_result"
    }
   ],
   "source": [
    "z                                                        #z.sort() change the sorting of the numbers"
   ]
  },
  {
   "cell_type": "code",
   "execution_count": 184,
   "id": "91935839",
   "metadata": {},
   "outputs": [
    {
     "data": {
      "text/plain": [
       "array([[19, 18, 17, 16, 15, 14, 13, 12, 11],\n",
       "       [10,  9,  8,  7,  6,  5,  4,  3,  2]])"
      ]
     },
     "execution_count": 184,
     "metadata": {},
     "output_type": "execute_result"
    }
   ],
   "source": [
    "np.arange(19,1,-1).reshape(2,9)"
   ]
  },
  {
   "cell_type": "code",
   "execution_count": 186,
   "id": "08cf21a6",
   "metadata": {},
   "outputs": [
    {
     "data": {
      "text/plain": [
       "array([[19, 18, 17, 16, 15, 14, 13, 12, 11],\n",
       "       [10,  9,  8,  7,  6,  5,  4,  3,  2]])"
      ]
     },
     "execution_count": 186,
     "metadata": {},
     "output_type": "execute_result"
    }
   ],
   "source": [
    "k=np.arange(19,1,-1).reshape(2,9)\n",
    "k"
   ]
  },
  {
   "cell_type": "code",
   "execution_count": 188,
   "id": "5c31ef53",
   "metadata": {},
   "outputs": [
    {
     "data": {
      "text/plain": [
       "array([[11, 12, 13, 14, 15, 16, 17, 18, 19],\n",
       "       [ 2,  3,  4,  5,  6,  7,  8,  9, 10]])"
      ]
     },
     "execution_count": 188,
     "metadata": {},
     "output_type": "execute_result"
    }
   ],
   "source": [
    "np.sort(k)"
   ]
  },
  {
   "cell_type": "code",
   "execution_count": 190,
   "id": "372ee415",
   "metadata": {},
   "outputs": [
    {
     "data": {
      "text/plain": [
       "array([[11, 12, 13, 14, 15, 16, 17, 18, 19],\n",
       "       [ 2,  3,  4,  5,  6,  7,  8,  9, 10]])"
      ]
     },
     "execution_count": 190,
     "metadata": {},
     "output_type": "execute_result"
    }
   ],
   "source": [
    "k.sort()\n",
    "k"
   ]
  },
  {
   "cell_type": "code",
   "execution_count": 191,
   "id": "33379c10",
   "metadata": {},
   "outputs": [
    {
     "data": {
      "text/plain": [
       "array([[11, 12, 13, 14, 15, 16, 17, 18, 19],\n",
       "       [ 2,  3,  4,  5,  6,  7,  8,  9, 10]])"
      ]
     },
     "execution_count": 191,
     "metadata": {},
     "output_type": "execute_result"
    }
   ],
   "source": [
    "k                                                               #z.sort() change the sorting of the numbers"
   ]
  },
  {
   "cell_type": "markdown",
   "id": "1d9c8cac",
   "metadata": {},
   "source": [
    "#### Index ####"
   ]
  },
  {
   "cell_type": "code",
   "execution_count": 194,
   "id": "3ed6583a",
   "metadata": {},
   "outputs": [
    {
     "data": {
      "text/plain": [
       "array([[11, 12, 13, 14, 15, 16, 17, 18, 19],\n",
       "       [ 2,  3,  4,  5,  6,  7,  8,  9, 10]])"
      ]
     },
     "execution_count": 194,
     "metadata": {},
     "output_type": "execute_result"
    }
   ],
   "source": [
    "k"
   ]
  },
  {
   "cell_type": "code",
   "execution_count": 193,
   "id": "edda0a12",
   "metadata": {},
   "outputs": [
    {
     "data": {
      "text/plain": [
       "array([ 2,  3,  4,  5,  6,  7,  8,  9, 10])"
      ]
     },
     "execution_count": 193,
     "metadata": {},
     "output_type": "execute_result"
    }
   ],
   "source": [
    "k[1]"
   ]
  },
  {
   "cell_type": "code",
   "execution_count": 198,
   "id": "f8fbe544",
   "metadata": {},
   "outputs": [
    {
     "data": {
      "text/plain": [
       "array([ 2,  3,  4,  5,  6,  7,  8,  9, 10])"
      ]
     },
     "execution_count": 198,
     "metadata": {},
     "output_type": "execute_result"
    }
   ],
   "source": [
    "k[-1]"
   ]
  },
  {
   "cell_type": "code",
   "execution_count": 195,
   "id": "2424bb86",
   "metadata": {},
   "outputs": [
    {
     "data": {
      "text/plain": [
       "array([ 1,  2,  3,  4,  5,  6,  7,  8,  9, 10, 11, 12, 13, 14, 15, 16, 17,\n",
       "       18])"
      ]
     },
     "execution_count": 195,
     "metadata": {},
     "output_type": "execute_result"
    }
   ],
   "source": [
    "z"
   ]
  },
  {
   "cell_type": "code",
   "execution_count": 196,
   "id": "14bc6dcb",
   "metadata": {},
   "outputs": [
    {
     "data": {
      "text/plain": [
       "6"
      ]
     },
     "execution_count": 196,
     "metadata": {},
     "output_type": "execute_result"
    }
   ],
   "source": [
    "z[5]"
   ]
  },
  {
   "cell_type": "code",
   "execution_count": 197,
   "id": "17c0ab8b",
   "metadata": {},
   "outputs": [
    {
     "data": {
      "text/plain": [
       "3"
      ]
     },
     "execution_count": 197,
     "metadata": {},
     "output_type": "execute_result"
    }
   ],
   "source": [
    "z[2]"
   ]
  },
  {
   "cell_type": "code",
   "execution_count": 199,
   "id": "2f3b518e",
   "metadata": {},
   "outputs": [
    {
     "data": {
      "text/plain": [
       "11"
      ]
     },
     "execution_count": 199,
     "metadata": {},
     "output_type": "execute_result"
    }
   ],
   "source": [
    "z[10]"
   ]
  },
  {
   "cell_type": "code",
   "execution_count": 200,
   "id": "507e8a14",
   "metadata": {},
   "outputs": [
    {
     "data": {
      "text/plain": [
       "array([[1, 2, 3],\n",
       "       [4, 5, 6],\n",
       "       [7, 8, 9]])"
      ]
     },
     "execution_count": 200,
     "metadata": {},
     "output_type": "execute_result"
    }
   ],
   "source": [
    "n"
   ]
  },
  {
   "cell_type": "code",
   "execution_count": 201,
   "id": "c01a807c",
   "metadata": {},
   "outputs": [
    {
     "data": {
      "text/plain": [
       "1"
      ]
     },
     "execution_count": 201,
     "metadata": {},
     "output_type": "execute_result"
    }
   ],
   "source": [
    "n[0,0]"
   ]
  },
  {
   "cell_type": "code",
   "execution_count": 202,
   "id": "6caf4a2e",
   "metadata": {},
   "outputs": [
    {
     "data": {
      "text/plain": [
       "6"
      ]
     },
     "execution_count": 202,
     "metadata": {},
     "output_type": "execute_result"
    }
   ],
   "source": [
    "n[1,2]"
   ]
  },
  {
   "cell_type": "code",
   "execution_count": 203,
   "id": "bed91710",
   "metadata": {},
   "outputs": [
    {
     "data": {
      "text/plain": [
       "array([1, 2, 3])"
      ]
     },
     "execution_count": 203,
     "metadata": {},
     "output_type": "execute_result"
    }
   ],
   "source": [
    "n[0]"
   ]
  },
  {
   "cell_type": "code",
   "execution_count": 205,
   "id": "5f858de7",
   "metadata": {},
   "outputs": [
    {
     "data": {
      "text/plain": [
       "array([[  1,   2,   3],\n",
       "       [  4,   5, 888],\n",
       "       [  7,   8,   9]])"
      ]
     },
     "execution_count": 205,
     "metadata": {},
     "output_type": "execute_result"
    }
   ],
   "source": [
    "n[1,2]=888\n",
    "n                                                            #fixtype"
   ]
  },
  {
   "cell_type": "markdown",
   "id": "50f17666",
   "metadata": {},
   "source": [
    "#### Slice ####"
   ]
  },
  {
   "cell_type": "code",
   "execution_count": 207,
   "id": "18423eb5",
   "metadata": {},
   "outputs": [
    {
     "data": {
      "text/plain": [
       "array([ 1,  2,  3,  4,  5,  6,  7,  8,  9, 10, 11, 12, 13, 14, 15, 16, 17,\n",
       "       18])"
      ]
     },
     "execution_count": 207,
     "metadata": {},
     "output_type": "execute_result"
    }
   ],
   "source": [
    "z"
   ]
  },
  {
   "cell_type": "code",
   "execution_count": 206,
   "id": "aa6ce6e4",
   "metadata": {},
   "outputs": [
    {
     "data": {
      "text/plain": [
       "array([2, 3, 4, 5])"
      ]
     },
     "execution_count": 206,
     "metadata": {},
     "output_type": "execute_result"
    }
   ],
   "source": [
    "z[1:5]"
   ]
  },
  {
   "cell_type": "code",
   "execution_count": 208,
   "id": "39df5dbe",
   "metadata": {},
   "outputs": [
    {
     "data": {
      "text/plain": [
       "array([ 2,  3,  4,  5,  6,  7,  8,  9, 10, 11, 12, 13, 14, 15, 16, 17, 18])"
      ]
     },
     "execution_count": 208,
     "metadata": {},
     "output_type": "execute_result"
    }
   ],
   "source": [
    "z[1:]"
   ]
  },
  {
   "cell_type": "code",
   "execution_count": 209,
   "id": "009a172b",
   "metadata": {},
   "outputs": [
    {
     "data": {
      "text/plain": [
       "array([ 1,  6, 11, 16])"
      ]
     },
     "execution_count": 209,
     "metadata": {},
     "output_type": "execute_result"
    }
   ],
   "source": [
    "z[::5]"
   ]
  },
  {
   "cell_type": "code",
   "execution_count": 210,
   "id": "89aac13e",
   "metadata": {},
   "outputs": [
    {
     "data": {
      "text/plain": [
       "array([[  1,   2,   3],\n",
       "       [  4,   5, 888],\n",
       "       [  7,   8,   9]])"
      ]
     },
     "execution_count": 210,
     "metadata": {},
     "output_type": "execute_result"
    }
   ],
   "source": [
    "n"
   ]
  },
  {
   "cell_type": "code",
   "execution_count": 213,
   "id": "224c8683",
   "metadata": {},
   "outputs": [
    {
     "data": {
      "text/plain": [
       "array([2, 5, 8])"
      ]
     },
     "execution_count": 213,
     "metadata": {},
     "output_type": "execute_result"
    }
   ],
   "source": [
    "n[:,1]                                 #2D"
   ]
  },
  {
   "cell_type": "code",
   "execution_count": 216,
   "id": "8b15ee71",
   "metadata": {},
   "outputs": [
    {
     "data": {
      "text/plain": [
       "array([  4,   5, 888])"
      ]
     },
     "execution_count": 216,
     "metadata": {},
     "output_type": "execute_result"
    }
   ],
   "source": [
    "n[1,:]"
   ]
  },
  {
   "cell_type": "code",
   "execution_count": 224,
   "id": "11d0232f",
   "metadata": {},
   "outputs": [
    {
     "data": {
      "text/plain": [
       "array([[1, 2, 3]])"
      ]
     },
     "execution_count": 224,
     "metadata": {},
     "output_type": "execute_result"
    }
   ],
   "source": [
    "n[:1]"
   ]
  },
  {
   "cell_type": "code",
   "execution_count": 221,
   "id": "d06cff34",
   "metadata": {},
   "outputs": [
    {
     "data": {
      "text/plain": [
       "array([[  1,   2,   3],\n",
       "       [  4,   5, 888]])"
      ]
     },
     "execution_count": 221,
     "metadata": {},
     "output_type": "execute_result"
    }
   ],
   "source": [
    "n[0:2, 0:3]"
   ]
  },
  {
   "cell_type": "code",
   "execution_count": 223,
   "id": "b6e7adfc",
   "metadata": {},
   "outputs": [
    {
     "data": {
      "text/plain": [
       "array([[1, 2],\n",
       "       [4, 5],\n",
       "       [7, 8]])"
      ]
     },
     "execution_count": 223,
     "metadata": {},
     "output_type": "execute_result"
    }
   ],
   "source": [
    "n[:, 0:2]"
   ]
  },
  {
   "cell_type": "code",
   "execution_count": 232,
   "id": "7497ce7f",
   "metadata": {},
   "outputs": [
    {
     "data": {
      "text/plain": [
       "array([[ 3,  8,  9, 11, 18, 13, 14],\n",
       "       [14,  4, 16, 12,  1, 10,  2],\n",
       "       [ 8,  1, 16, 13, 12, 17, 12],\n",
       "       [18, 11, 12,  5, 19, 10, 19],\n",
       "       [ 7, 18,  8, 10, 12, 14,  8],\n",
       "       [ 0, 14, 17,  5,  4, 15, 13],\n",
       "       [14, 12,  9,  3,  3,  8,  2]])"
      ]
     },
     "execution_count": 232,
     "metadata": {},
     "output_type": "execute_result"
    }
   ],
   "source": [
    "e=np.random.randint(20, size=(7,7))\n",
    "e"
   ]
  },
  {
   "cell_type": "code",
   "execution_count": 234,
   "id": "63f5e53e",
   "metadata": {},
   "outputs": [
    {
     "data": {
      "text/plain": [
       "array([[16, 12,  1],\n",
       "       [16, 13, 12]])"
      ]
     },
     "execution_count": 234,
     "metadata": {},
     "output_type": "execute_result"
    }
   ],
   "source": [
    "subset=e[1:3, 2:5]\n",
    "subset"
   ]
  },
  {
   "cell_type": "code",
   "execution_count": 247,
   "id": "7f566b61",
   "metadata": {},
   "outputs": [
    {
     "data": {
      "text/plain": [
       "array([[18, 13, 14]])"
      ]
     },
     "execution_count": 247,
     "metadata": {},
     "output_type": "execute_result"
    }
   ],
   "source": [
    "subset1=e[:1,4:]\n",
    "subset1"
   ]
  },
  {
   "cell_type": "code",
   "execution_count": 252,
   "id": "492583ee",
   "metadata": {},
   "outputs": [
    {
     "data": {
      "text/plain": [
       "10"
      ]
     },
     "execution_count": 252,
     "metadata": {},
     "output_type": "execute_result"
    }
   ],
   "source": [
    "subset2=e[1,5]\n",
    "subset2"
   ]
  },
  {
   "cell_type": "code",
   "execution_count": 243,
   "id": "47e7e28f",
   "metadata": {},
   "outputs": [],
   "source": [
    "subset[1,1]=99999"
   ]
  },
  {
   "cell_type": "code",
   "execution_count": 244,
   "id": "f1f1061c",
   "metadata": {},
   "outputs": [
    {
     "data": {
      "text/plain": [
       "array([[   16,    12,     1],\n",
       "       [   16, 99999,    12]])"
      ]
     },
     "execution_count": 244,
     "metadata": {},
     "output_type": "execute_result"
    }
   ],
   "source": [
    "subset"
   ]
  },
  {
   "cell_type": "code",
   "execution_count": 248,
   "id": "d36fc753",
   "metadata": {},
   "outputs": [
    {
     "data": {
      "text/plain": [
       "array([[1111111,      13,      14]])"
      ]
     },
     "execution_count": 248,
     "metadata": {},
     "output_type": "execute_result"
    }
   ],
   "source": [
    "subset1[0,0]=1111111\n",
    "subset1"
   ]
  },
  {
   "cell_type": "code",
   "execution_count": 249,
   "id": "0714118e",
   "metadata": {},
   "outputs": [
    {
     "data": {
      "text/plain": [
       "array([[      3,       8,       9,      11, 1111111,      13,      14],\n",
       "       [     14,       4,      16,      12,       1,      10,       2],\n",
       "       [      8,       1,      16,   99999,      12,      17,      12],\n",
       "       [     18,      11,      12,       5,      19,      10,      19],\n",
       "       [      7,      18,       8,      10,      12,      14,       8],\n",
       "       [      0,      14,      17,       5,       4,      15,      13],\n",
       "       [     14,      12,       9,       3,       3,       8,       2]])"
      ]
     },
     "execution_count": 249,
     "metadata": {},
     "output_type": "execute_result"
    }
   ],
   "source": [
    "e                                                       "
   ]
  },
  {
   "cell_type": "code",
   "execution_count": 260,
   "id": "a577d793",
   "metadata": {},
   "outputs": [
    {
     "data": {
      "text/plain": [
       "array([[ 3,  8],\n",
       "       [14,  4],\n",
       "       [ 8,  1],\n",
       "       [18, 11],\n",
       "       [ 7, 18]])"
      ]
     },
     "execution_count": 260,
     "metadata": {},
     "output_type": "execute_result"
    }
   ],
   "source": [
    "subset3=e[0:5,0:2].copy()\n",
    "subset3"
   ]
  },
  {
   "cell_type": "code",
   "execution_count": 262,
   "id": "e450d672",
   "metadata": {},
   "outputs": [
    {
     "data": {
      "text/plain": [
       "array([[   3,    8],\n",
       "       [  14,    4],\n",
       "       [   8, 8758],\n",
       "       [  18,   11],\n",
       "       [   7,   18]])"
      ]
     },
     "execution_count": 262,
     "metadata": {},
     "output_type": "execute_result"
    }
   ],
   "source": [
    "subset3[2,1]=8758\n",
    "subset3"
   ]
  },
  {
   "cell_type": "code",
   "execution_count": 263,
   "id": "e39d5dd5",
   "metadata": {},
   "outputs": [
    {
     "data": {
      "text/plain": [
       "array([[      3,       8,       9,      11, 1111111,      13,      14],\n",
       "       [     14,       4,      16,      12,       1,      10,       2],\n",
       "       [      8,       1,      16,   99999,      12,      17,      12],\n",
       "       [     18,      11,      12,       5,      19,      10,      19],\n",
       "       [      7,      18,       8,      10,      12,      14,       8],\n",
       "       [      0,      14,      17,       5,       4,      15,      13],\n",
       "       [     14,      12,       9,       3,       3,       8,       2]])"
      ]
     },
     "execution_count": 263,
     "metadata": {},
     "output_type": "execute_result"
    }
   ],
   "source": [
    "e                                   # There is no 'subset3[2,1]=8758' in the range because of change in the copy range."
   ]
  },
  {
   "cell_type": "markdown",
   "id": "2055fec7",
   "metadata": {},
   "source": [
    "#### Fancy İndex ####"
   ]
  },
  {
   "cell_type": "code",
   "execution_count": 274,
   "id": "03edb720",
   "metadata": {},
   "outputs": [
    {
     "data": {
      "text/plain": [
       "array([10,  9,  8,  7,  6,  5,  4,  3,  2])"
      ]
     },
     "execution_count": 274,
     "metadata": {},
     "output_type": "execute_result"
    }
   ],
   "source": [
    "p=np.arange(10,1,-1)\n",
    "p"
   ]
  },
  {
   "cell_type": "code",
   "execution_count": 275,
   "id": "f3a0a616",
   "metadata": {},
   "outputs": [],
   "source": [
    "brin=[2,4,5]"
   ]
  },
  {
   "cell_type": "code",
   "execution_count": 277,
   "id": "3ee048f1",
   "metadata": {},
   "outputs": [
    {
     "data": {
      "text/plain": [
       "array([8, 6, 5])"
      ]
     },
     "execution_count": 277,
     "metadata": {},
     "output_type": "execute_result"
    }
   ],
   "source": [
    "p[brin]"
   ]
  },
  {
   "cell_type": "code",
   "execution_count": 278,
   "id": "c18d401c",
   "metadata": {},
   "outputs": [],
   "source": [
    "brin1=[0,2,3,7]"
   ]
  },
  {
   "cell_type": "code",
   "execution_count": 279,
   "id": "ffd670da",
   "metadata": {},
   "outputs": [
    {
     "data": {
      "text/plain": [
       "array([10,  8,  7,  3])"
      ]
     },
     "execution_count": 279,
     "metadata": {},
     "output_type": "execute_result"
    }
   ],
   "source": [
    "p[brin1]"
   ]
  },
  {
   "cell_type": "code",
   "execution_count": 283,
   "id": "234b101e",
   "metadata": {},
   "outputs": [
    {
     "data": {
      "text/plain": [
       "array([[ 1,  6, 11, 11],\n",
       "       [10,  7,  2,  5],\n",
       "       [ 3,  8,  7,  9],\n",
       "       [ 5,  2, 10,  2]])"
      ]
     },
     "execution_count": 283,
     "metadata": {},
     "output_type": "execute_result"
    }
   ],
   "source": [
    "u=np.random.randint(12, size=(4,4))\n",
    "u                                                     #'Fancy  Index' give us choose high level element."
   ]
  },
  {
   "cell_type": "code",
   "execution_count": 286,
   "id": "86ce76c1",
   "metadata": {},
   "outputs": [],
   "source": [
    "row1=np.array([0,2])\n",
    "column1=np.array([1,3])"
   ]
  },
  {
   "cell_type": "code",
   "execution_count": 287,
   "id": "5ea935ae",
   "metadata": {},
   "outputs": [
    {
     "data": {
      "text/plain": [
       "array([6, 9])"
      ]
     },
     "execution_count": 287,
     "metadata": {},
     "output_type": "execute_result"
    }
   ],
   "source": [
    "u[row1, column1]"
   ]
  },
  {
   "cell_type": "code",
   "execution_count": 288,
   "id": "6d27d942",
   "metadata": {},
   "outputs": [
    {
     "data": {
      "text/plain": [
       "array([[ 1,  6, 11, 11],\n",
       "       [10,  7,  2,  5],\n",
       "       [ 3,  8,  7,  9],\n",
       "       [ 5,  2, 10,  2]])"
      ]
     },
     "execution_count": 288,
     "metadata": {},
     "output_type": "execute_result"
    }
   ],
   "source": [
    "u"
   ]
  },
  {
   "cell_type": "code",
   "execution_count": 289,
   "id": "7d6e1659",
   "metadata": {},
   "outputs": [
    {
     "data": {
      "text/plain": [
       "array([ 6, 11])"
      ]
     },
     "execution_count": 289,
     "metadata": {},
     "output_type": "execute_result"
    }
   ],
   "source": [
    "u[0, [1,2]]                                  #index + fancy index  "
   ]
  },
  {
   "cell_type": "code",
   "execution_count": 292,
   "id": "0dcf2678",
   "metadata": {},
   "outputs": [
    {
     "data": {
      "text/plain": [
       "array([[ 6, 11],\n",
       "       [ 7,  2],\n",
       "       [ 8,  7]])"
      ]
     },
     "execution_count": 292,
     "metadata": {},
     "output_type": "execute_result"
    }
   ],
   "source": [
    "u[:3, [1,2]]                               #slice + fancy index"
   ]
  },
  {
   "cell_type": "code",
   "execution_count": 293,
   "id": "d7a18ff7",
   "metadata": {},
   "outputs": [
    {
     "data": {
      "text/plain": [
       "array([[ 6, 11],\n",
       "       [ 7,  2]])"
      ]
     },
     "execution_count": 293,
     "metadata": {},
     "output_type": "execute_result"
    }
   ],
   "source": [
    "u[:2, [1,2]]"
   ]
  },
  {
   "cell_type": "code",
   "execution_count": 307,
   "id": "8ce1cb93",
   "metadata": {},
   "outputs": [
    {
     "data": {
      "text/plain": [
       "array([ 0,  2,  4,  6,  8, 10, 12, 14, 16, 18, 20, 22, 24, 26, 28])"
      ]
     },
     "execution_count": 307,
     "metadata": {},
     "output_type": "execute_result"
    }
   ],
   "source": [
    "v=np.arange(0,30,2)\n",
    "v"
   ]
  },
  {
   "cell_type": "code",
   "execution_count": 308,
   "id": "e7e88bf8",
   "metadata": {},
   "outputs": [
    {
     "data": {
      "text/plain": [
       "array([False, False, False, False, False, False, False, False, False,\n",
       "       False, False, False, False, False, False])"
      ]
     },
     "execution_count": 308,
     "metadata": {},
     "output_type": "execute_result"
    }
   ],
   "source": [
    "v<-1"
   ]
  },
  {
   "cell_type": "code",
   "execution_count": 309,
   "id": "8e5a26c6",
   "metadata": {},
   "outputs": [
    {
     "data": {
      "text/plain": [
       "array([False, False, False, False, False, False, False, False, False,\n",
       "       False, False, False, False, False, False])"
      ]
     },
     "execution_count": 309,
     "metadata": {},
     "output_type": "execute_result"
    }
   ],
   "source": [
    "v>100"
   ]
  },
  {
   "cell_type": "code",
   "execution_count": 310,
   "id": "9238dcf5",
   "metadata": {},
   "outputs": [
    {
     "data": {
      "text/plain": [
       "array([ True,  True,  True,  True,  True,  True,  True,  True, False,\n",
       "       False, False, False, False, False, False])"
      ]
     },
     "execution_count": 310,
     "metadata": {},
     "output_type": "execute_result"
    }
   ],
   "source": [
    "v<=15"
   ]
  },
  {
   "cell_type": "code",
   "execution_count": 311,
   "id": "75e551c7",
   "metadata": {},
   "outputs": [
    {
     "data": {
      "text/plain": [
       "array([], dtype=int32)"
      ]
     },
     "execution_count": 311,
     "metadata": {},
     "output_type": "execute_result"
    }
   ],
   "source": [
    "v[v<-1]"
   ]
  },
  {
   "cell_type": "code",
   "execution_count": 312,
   "id": "057396a7",
   "metadata": {},
   "outputs": [
    {
     "data": {
      "text/plain": [
       "array([ 0,  2,  4,  6,  8, 10, 12, 14])"
      ]
     },
     "execution_count": 312,
     "metadata": {},
     "output_type": "execute_result"
    }
   ],
   "source": [
    "v[v<=15]"
   ]
  },
  {
   "cell_type": "code",
   "execution_count": 315,
   "id": "bd641729",
   "metadata": {},
   "outputs": [
    {
     "data": {
      "text/plain": [
       "array([18, 20, 22, 24, 26, 28])"
      ]
     },
     "execution_count": 315,
     "metadata": {},
     "output_type": "execute_result"
    }
   ],
   "source": [
    "v[v>=18]"
   ]
  },
  {
   "cell_type": "code",
   "execution_count": 316,
   "id": "b749a1ff",
   "metadata": {},
   "outputs": [
    {
     "data": {
      "text/plain": [
       "array([18])"
      ]
     },
     "execution_count": 316,
     "metadata": {},
     "output_type": "execute_result"
    }
   ],
   "source": [
    "v[v==18]"
   ]
  },
  {
   "cell_type": "code",
   "execution_count": 317,
   "id": "6effb1c8",
   "metadata": {},
   "outputs": [
    {
     "data": {
      "text/plain": [
       "array([ 0,  2,  4,  6,  8, 10, 12, 14, 16, 20, 22, 24, 26, 28])"
      ]
     },
     "execution_count": 317,
     "metadata": {},
     "output_type": "execute_result"
    }
   ],
   "source": [
    "v[v!=18]"
   ]
  },
  {
   "cell_type": "markdown",
   "id": "f4838084",
   "metadata": {},
   "source": [
    "#### Mathematical operations ####"
   ]
  },
  {
   "cell_type": "code",
   "execution_count": 320,
   "id": "c6526580",
   "metadata": {},
   "outputs": [
    {
     "data": {
      "text/plain": [
       "array([0. , 0.4, 0.8, 1.2, 1.6, 2. , 2.4, 2.8, 3.2, 3.6, 4. , 4.4, 4.8,\n",
       "       5.2, 5.6])"
      ]
     },
     "execution_count": 320,
     "metadata": {},
     "output_type": "execute_result"
    }
   ],
   "source": [
    "v/5"
   ]
  },
  {
   "cell_type": "code",
   "execution_count": 321,
   "id": "6019a2fb",
   "metadata": {},
   "outputs": [
    {
     "data": {
      "text/plain": [
       "array([  0,   4,  16,  36,  64, 100, 144, 196, 256, 324, 400, 484, 576,\n",
       "       676, 784], dtype=int32)"
      ]
     },
     "execution_count": 321,
     "metadata": {},
     "output_type": "execute_result"
    }
   ],
   "source": [
    "v**2"
   ]
  },
  {
   "cell_type": "code",
   "execution_count": 322,
   "id": "b610e715",
   "metadata": {},
   "outputs": [
    {
     "data": {
      "text/plain": [
       "array([ 0,  4,  8, 12, 16, 20, 24, 28, 32, 36, 40, 44, 48, 52, 56])"
      ]
     },
     "execution_count": 322,
     "metadata": {},
     "output_type": "execute_result"
    }
   ],
   "source": [
    "v*2"
   ]
  },
  {
   "cell_type": "code",
   "execution_count": 323,
   "id": "623ddc87",
   "metadata": {},
   "outputs": [
    {
     "data": {
      "text/plain": [
       "array([-1,  1,  3,  5,  7,  9, 11, 13, 15, 17, 19, 21, 23, 25, 27])"
      ]
     },
     "execution_count": 323,
     "metadata": {},
     "output_type": "execute_result"
    }
   ],
   "source": [
    "v-1"
   ]
  },
  {
   "cell_type": "markdown",
   "id": "ac47412c",
   "metadata": {},
   "source": [
    "#### ufunc ####\n",
    "* add ----- Adding(+)\n",
    "* subtract -----Subtraction(-)\n",
    "* multiply -----Multiplication(*)\n",
    "* divide -----Division(/)\n",
    "* power -----(**)-(**3)...\n",
    "* mod --------Mod(%)\n",
    "* absolute -----Calculate pozitive from negative numbers ()\n",
    "* log------(log)"
   ]
  },
  {
   "cell_type": "code",
   "execution_count": 324,
   "id": "76664062",
   "metadata": {},
   "outputs": [
    {
     "data": {
      "text/plain": [
       "array([ 0,  2,  4,  6,  8, 10, 12, 14, 16, 18, 20, 22, 24, 26, 28])"
      ]
     },
     "execution_count": 324,
     "metadata": {},
     "output_type": "execute_result"
    }
   ],
   "source": [
    "v"
   ]
  },
  {
   "cell_type": "code",
   "execution_count": 325,
   "id": "38e98fed",
   "metadata": {},
   "outputs": [
    {
     "data": {
      "text/plain": [
       "array([ 5,  7,  9, 11, 13, 15, 17, 19, 21, 23, 25, 27, 29, 31, 33])"
      ]
     },
     "execution_count": 325,
     "metadata": {},
     "output_type": "execute_result"
    }
   ],
   "source": [
    "np.add(v, 5)"
   ]
  },
  {
   "cell_type": "code",
   "execution_count": 348,
   "id": "7f26150a",
   "metadata": {},
   "outputs": [
    {
     "data": {
      "text/plain": [
       "array([ 5,  7,  9, 11, 13, 15, 17, 19, 21, 23, 25, 27, 29, 31, 33])"
      ]
     },
     "execution_count": 348,
     "metadata": {},
     "output_type": "execute_result"
    }
   ],
   "source": [
    "v+5"
   ]
  },
  {
   "cell_type": "code",
   "execution_count": 326,
   "id": "1699442f",
   "metadata": {},
   "outputs": [
    {
     "data": {
      "text/plain": [
       "array([-1,  1,  3,  5,  7,  9, 11, 13, 15, 17, 19, 21, 23, 25, 27])"
      ]
     },
     "execution_count": 326,
     "metadata": {},
     "output_type": "execute_result"
    }
   ],
   "source": [
    "np.subtract(v, 1)"
   ]
  },
  {
   "cell_type": "code",
   "execution_count": 349,
   "id": "e8e96fce",
   "metadata": {},
   "outputs": [
    {
     "data": {
      "text/plain": [
       "array([-1,  1,  3,  5,  7,  9, 11, 13, 15, 17, 19, 21, 23, 25, 27])"
      ]
     },
     "execution_count": 349,
     "metadata": {},
     "output_type": "execute_result"
    }
   ],
   "source": [
    "v-1"
   ]
  },
  {
   "cell_type": "code",
   "execution_count": 327,
   "id": "d374d3b2",
   "metadata": {},
   "outputs": [
    {
     "data": {
      "text/plain": [
       "array([ 0,  4,  8, 12, 16, 20, 24, 28, 32, 36, 40, 44, 48, 52, 56])"
      ]
     },
     "execution_count": 327,
     "metadata": {},
     "output_type": "execute_result"
    }
   ],
   "source": [
    "np.multiply(v, 2)"
   ]
  },
  {
   "cell_type": "code",
   "execution_count": 350,
   "id": "94432889",
   "metadata": {},
   "outputs": [
    {
     "data": {
      "text/plain": [
       "array([ 0,  4,  8, 12, 16, 20, 24, 28, 32, 36, 40, 44, 48, 52, 56])"
      ]
     },
     "execution_count": 350,
     "metadata": {},
     "output_type": "execute_result"
    }
   ],
   "source": [
    "v*2"
   ]
  },
  {
   "cell_type": "code",
   "execution_count": 328,
   "id": "326d24f4",
   "metadata": {},
   "outputs": [
    {
     "data": {
      "text/plain": [
       "array([ 0.,  1.,  2.,  3.,  4.,  5.,  6.,  7.,  8.,  9., 10., 11., 12.,\n",
       "       13., 14.])"
      ]
     },
     "execution_count": 328,
     "metadata": {},
     "output_type": "execute_result"
    }
   ],
   "source": [
    "np.divide(v,2)"
   ]
  },
  {
   "cell_type": "code",
   "execution_count": 351,
   "id": "989c94ff",
   "metadata": {},
   "outputs": [
    {
     "data": {
      "text/plain": [
       "array([ 0.,  1.,  2.,  3.,  4.,  5.,  6.,  7.,  8.,  9., 10., 11., 12.,\n",
       "       13., 14.])"
      ]
     },
     "execution_count": 351,
     "metadata": {},
     "output_type": "execute_result"
    }
   ],
   "source": [
    "v/2"
   ]
  },
  {
   "cell_type": "code",
   "execution_count": 329,
   "id": "f5fc41ef",
   "metadata": {},
   "outputs": [
    {
     "data": {
      "text/plain": [
       "array([  0,   4,  16,  36,  64, 100, 144, 196, 256, 324, 400, 484, 576,\n",
       "       676, 784], dtype=int32)"
      ]
     },
     "execution_count": 329,
     "metadata": {},
     "output_type": "execute_result"
    }
   ],
   "source": [
    "np.power(v, 2)"
   ]
  },
  {
   "cell_type": "code",
   "execution_count": 352,
   "id": "8aeae285",
   "metadata": {},
   "outputs": [
    {
     "data": {
      "text/plain": [
       "array([  0,   4,  16,  36,  64, 100, 144, 196, 256, 324, 400, 484, 576,\n",
       "       676, 784], dtype=int32)"
      ]
     },
     "execution_count": 352,
     "metadata": {},
     "output_type": "execute_result"
    }
   ],
   "source": [
    "v**2"
   ]
  },
  {
   "cell_type": "code",
   "execution_count": 330,
   "id": "246d0452",
   "metadata": {},
   "outputs": [
    {
     "data": {
      "text/plain": [
       "array([    0,     8,    64,   216,   512,  1000,  1728,  2744,  4096,\n",
       "        5832,  8000, 10648, 13824, 17576, 21952], dtype=int32)"
      ]
     },
     "execution_count": 330,
     "metadata": {},
     "output_type": "execute_result"
    }
   ],
   "source": [
    "np.power(v, 3)"
   ]
  },
  {
   "cell_type": "code",
   "execution_count": 331,
   "id": "b83f3f8d",
   "metadata": {},
   "outputs": [
    {
     "data": {
      "text/plain": [
       "array([0, 2, 1, 0, 2, 1, 0, 2, 1, 0, 2, 1, 0, 2, 1], dtype=int32)"
      ]
     },
     "execution_count": 331,
     "metadata": {},
     "output_type": "execute_result"
    }
   ],
   "source": [
    "np.mod(v, 3)"
   ]
  },
  {
   "cell_type": "code",
   "execution_count": 353,
   "id": "e0e93332",
   "metadata": {},
   "outputs": [
    {
     "data": {
      "text/plain": [
       "array([0, 2, 1, 0, 2, 1, 0, 2, 1, 0, 2, 1, 0, 2, 1], dtype=int32)"
      ]
     },
     "execution_count": 353,
     "metadata": {},
     "output_type": "execute_result"
    }
   ],
   "source": [
    "v%3"
   ]
  },
  {
   "cell_type": "code",
   "execution_count": 341,
   "id": "68368147",
   "metadata": {},
   "outputs": [
    {
     "data": {
      "text/plain": [
       "array([1])"
      ]
     },
     "execution_count": 341,
     "metadata": {},
     "output_type": "execute_result"
    }
   ],
   "source": [
    "np.absolute([-1])"
   ]
  },
  {
   "cell_type": "code",
   "execution_count": 347,
   "id": "6e88cba2",
   "metadata": {},
   "outputs": [
    {
     "data": {
      "text/plain": [
       "array([3])"
      ]
     },
     "execution_count": 347,
     "metadata": {},
     "output_type": "execute_result"
    }
   ],
   "source": [
    "np.absolute(np.array([-3]))"
   ]
  },
  {
   "cell_type": "code",
   "execution_count": 355,
   "id": "57c9fd4d",
   "metadata": {},
   "outputs": [
    {
     "data": {
      "text/plain": [
       "0.9589157234143065"
      ]
     },
     "execution_count": 355,
     "metadata": {},
     "output_type": "execute_result"
    }
   ],
   "source": [
    "np.sin(360)"
   ]
  },
  {
   "cell_type": "code",
   "execution_count": 356,
   "id": "8c8c0cf8",
   "metadata": {},
   "outputs": [
    {
     "data": {
      "text/plain": [
       "-0.2836910914865273"
      ]
     },
     "execution_count": 356,
     "metadata": {},
     "output_type": "execute_result"
    }
   ],
   "source": [
    "np.cos(360)"
   ]
  },
  {
   "cell_type": "code",
   "execution_count": 359,
   "id": "786870fc",
   "metadata": {},
   "outputs": [],
   "source": [
    "ı=np.array([5,55,45,852])"
   ]
  },
  {
   "cell_type": "code",
   "execution_count": 360,
   "id": "dae9302d",
   "metadata": {},
   "outputs": [
    {
     "data": {
      "text/plain": [
       "array([1.60943791, 4.00733319, 3.80666249, 6.74758653])"
      ]
     },
     "execution_count": 360,
     "metadata": {},
     "output_type": "execute_result"
    }
   ],
   "source": [
    "np.log(ı)"
   ]
  },
  {
   "cell_type": "code",
   "execution_count": 362,
   "id": "ab3b8b61",
   "metadata": {},
   "outputs": [
    {
     "data": {
      "text/plain": [
       "array([0.69897   , 1.74036269, 1.65321251, 2.93043959])"
      ]
     },
     "execution_count": 362,
     "metadata": {},
     "output_type": "execute_result"
    }
   ],
   "source": [
    "np.log10(ı)"
   ]
  },
  {
   "cell_type": "code",
   "execution_count": 363,
   "id": "8de676bf",
   "metadata": {},
   "outputs": [
    {
     "data": {
      "text/plain": [
       "array([[ 1,  6, 11, 11],\n",
       "       [10,  7,  2,  5],\n",
       "       [ 3,  8,  7,  9],\n",
       "       [ 5,  2, 10,  2]])"
      ]
     },
     "execution_count": 363,
     "metadata": {},
     "output_type": "execute_result"
    }
   ],
   "source": [
    "u"
   ]
  },
  {
   "cell_type": "code",
   "execution_count": 365,
   "id": "b3596c67",
   "metadata": {},
   "outputs": [
    {
     "data": {
      "text/plain": [
       "array([[0.        , 0.77815125, 1.04139269, 1.04139269],\n",
       "       [1.        , 0.84509804, 0.30103   , 0.69897   ],\n",
       "       [0.47712125, 0.90308999, 0.84509804, 0.95424251],\n",
       "       [0.69897   , 0.30103   , 1.        , 0.30103   ]])"
      ]
     },
     "execution_count": 365,
     "metadata": {},
     "output_type": "execute_result"
    }
   ],
   "source": [
    "np.log10(u)"
   ]
  },
  {
   "cell_type": "code",
   "execution_count": 369,
   "id": "cd4cf511",
   "metadata": {},
   "outputs": [
    {
     "data": {
      "text/plain": [
       "6.1875"
      ]
     },
     "execution_count": 369,
     "metadata": {},
     "output_type": "execute_result"
    }
   ],
   "source": [
    "np.mean(u)"
   ]
  },
  {
   "cell_type": "code",
   "execution_count": 371,
   "id": "0279bde0",
   "metadata": {},
   "outputs": [
    {
     "data": {
      "text/plain": [
       "array([4.75, 5.75, 7.5 , 6.75])"
      ]
     },
     "execution_count": 371,
     "metadata": {},
     "output_type": "execute_result"
    }
   ],
   "source": [
    "np.mean(u, axis=0)"
   ]
  },
  {
   "cell_type": "code",
   "execution_count": 372,
   "id": "8347ef81",
   "metadata": {},
   "outputs": [
    {
     "data": {
      "text/plain": [
       "array([7.25, 6.  , 6.75, 4.75])"
      ]
     },
     "execution_count": 372,
     "metadata": {},
     "output_type": "execute_result"
    }
   ],
   "source": [
    "np.mean(u, axis=1)"
   ]
  },
  {
   "cell_type": "code",
   "execution_count": 377,
   "id": "903a8803",
   "metadata": {},
   "outputs": [
    {
     "data": {
      "text/plain": [
       "11.27734375"
      ]
     },
     "execution_count": 377,
     "metadata": {},
     "output_type": "execute_result"
    }
   ],
   "source": [
    "np.var(u)"
   ]
  },
  {
   "cell_type": "code",
   "execution_count": 378,
   "id": "054e5920",
   "metadata": {},
   "outputs": [
    {
     "data": {
      "text/plain": [
       "3.358175658002422"
      ]
     },
     "execution_count": 378,
     "metadata": {},
     "output_type": "execute_result"
    }
   ],
   "source": [
    "np.std(u)"
   ]
  },
  {
   "cell_type": "code",
   "execution_count": 380,
   "id": "c2792fc1",
   "metadata": {},
   "outputs": [
    {
     "data": {
      "text/plain": [
       "array([[ 1.        , -0.93075784,  0.82737924,  0.20751434],\n",
       "       [-0.93075784,  1.        , -0.64003012, -0.52459298],\n",
       "       [ 0.82737924, -0.64003012,  1.        , -0.31057366],\n",
       "       [ 0.20751434, -0.52459298, -0.31057366,  1.        ]])"
      ]
     },
     "execution_count": 380,
     "metadata": {},
     "output_type": "execute_result"
    }
   ],
   "source": [
    "np.corrcoef(u)"
   ]
  },
  {
   "cell_type": "code",
   "execution_count": 373,
   "id": "f1f4a2dd",
   "metadata": {},
   "outputs": [
    {
     "data": {
      "text/plain": [
       "99"
      ]
     },
     "execution_count": 373,
     "metadata": {},
     "output_type": "execute_result"
    }
   ],
   "source": [
    "u.sum()"
   ]
  },
  {
   "cell_type": "code",
   "execution_count": 374,
   "id": "c79591f4",
   "metadata": {},
   "outputs": [
    {
     "data": {
      "text/plain": [
       "1"
      ]
     },
     "execution_count": 374,
     "metadata": {},
     "output_type": "execute_result"
    }
   ],
   "source": [
    "u.min()"
   ]
  },
  {
   "cell_type": "code",
   "execution_count": 375,
   "id": "ddfc9737",
   "metadata": {},
   "outputs": [
    {
     "data": {
      "text/plain": [
       "11"
      ]
     },
     "execution_count": 375,
     "metadata": {},
     "output_type": "execute_result"
    }
   ],
   "source": [
    "u.max()"
   ]
  },
  {
   "cell_type": "markdown",
   "id": "267b4d7f",
   "metadata": {},
   "source": [
    "* 51*x1+x2=12\n",
    "* x1+3*x2=100"
   ]
  },
  {
   "cell_type": "code",
   "execution_count": 388,
   "id": "4916ef3e",
   "metadata": {},
   "outputs": [],
   "source": [
    "a=np.array([[51,1],[1,3]])"
   ]
  },
  {
   "cell_type": "code",
   "execution_count": 389,
   "id": "9af24a33",
   "metadata": {},
   "outputs": [],
   "source": [
    "b=np.array([12,100])"
   ]
  },
  {
   "cell_type": "code",
   "execution_count": 390,
   "id": "614a8216",
   "metadata": {},
   "outputs": [
    {
     "data": {
      "text/plain": [
       "array([-0.42105263, 33.47368421])"
      ]
     },
     "execution_count": 390,
     "metadata": {},
     "output_type": "execute_result"
    }
   ],
   "source": [
    "s=np.linalg.solve(a, b)\n",
    "s"
   ]
  },
  {
   "cell_type": "markdown",
   "id": "9933ba2b",
   "metadata": {},
   "source": [
    "* 8*x3+12*x2+x1=52\n",
    "* 13*x2+2*x1+14*x3=41\n",
    "* x1+x2+x3=11"
   ]
  },
  {
   "cell_type": "code",
   "execution_count": 396,
   "id": "2d6fea86",
   "metadata": {},
   "outputs": [],
   "source": [
    "l=np.array([[8,12,1],[2,13,1],[1,1,1]])"
   ]
  },
  {
   "cell_type": "code",
   "execution_count": 397,
   "id": "e8ca26b5",
   "metadata": {},
   "outputs": [],
   "source": [
    "o=np.array([12,100,11])"
   ]
  },
  {
   "cell_type": "code",
   "execution_count": 399,
   "id": "19d2e182",
   "metadata": {},
   "outputs": [
    {
     "data": {
      "text/plain": [
       "array([-13.24657534,   8.52054795,  15.7260274 ])"
      ]
     },
     "execution_count": 399,
     "metadata": {},
     "output_type": "execute_result"
    }
   ],
   "source": [
    "k=np.linalg.solve(l, o)\n",
    "k"
   ]
  }
 ],
 "metadata": {
  "kernelspec": {
   "display_name": "Python 3",
   "language": "python",
   "name": "python3"
  },
  "language_info": {
   "codemirror_mode": {
    "name": "ipython",
    "version": 3
   },
   "file_extension": ".py",
   "mimetype": "text/x-python",
   "name": "python",
   "nbconvert_exporter": "python",
   "pygments_lexer": "ipython3",
   "version": "3.7.0"
  }
 },
 "nbformat": 4,
 "nbformat_minor": 5
}
