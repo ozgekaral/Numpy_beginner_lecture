{
 "cells": [
  {
   "cell_type": "markdown",
   "id": "caac949c",
   "metadata": {},
   "source": [
    "## NUMPY ##"
   ]
  },
  {
   "cell_type": "markdown",
   "id": "e76d7d04",
   "metadata": {},
   "source": [
    "#### Numpy keep better in the ram and cost least for us.But we have to define the same data type. [int,int,int] or [str,str,str,str]  ####\n",
    "#### We able to calculate high level numerical operations and vectorial operations. ####"
   ]
  },
  {
   "cell_type": "code",
   "execution_count": 3,
   "id": "ce04800d",
   "metadata": {},
   "outputs": [],
   "source": [
    "import numpy as np"
   ]
  },
  {
   "cell_type": "code",
   "execution_count": 5,
   "id": "504275b1",
   "metadata": {},
   "outputs": [],
   "source": [
    "x=[7,8,9,10]\n",
    "y=[2,3,4,5]              #x and y are list."
   ]
  },
  {
   "cell_type": "code",
   "execution_count": 13,
   "id": "41dcf8e2",
   "metadata": {},
   "outputs": [],
   "source": [
    "x=np.array([7,8,9,10])         #'array' is the daa type of numpy library\n",
    "y=np.array([2,3,4,5])"
   ]
  },
  {
   "cell_type": "code",
   "execution_count": 41,
   "id": "3dc5d30a",
   "metadata": {},
   "outputs": [
    {
     "data": {
      "text/plain": [
       "array([14, 24, 36, 50])"
      ]
     },
     "execution_count": 41,
     "metadata": {},
     "output_type": "execute_result"
    }
   ],
   "source": [
    "x*y                             "
   ]
  },
  {
   "cell_type": "code",
   "execution_count": 40,
   "id": "e4ec9f69",
   "metadata": {},
   "outputs": [
    {
     "data": {
      "text/plain": [
       "array([14, 24, 36, 50])"
      ]
     },
     "execution_count": 40,
     "metadata": {},
     "output_type": "execute_result"
    }
   ],
   "source": [
    "a=x*y                           #We save array that create\n",
    "a"
   ]
  },
  {
   "cell_type": "code",
   "execution_count": 43,
   "id": "76f5aaf4",
   "metadata": {},
   "outputs": [
    {
     "data": {
      "text/plain": [
       "1"
      ]
     },
     "execution_count": 43,
     "metadata": {},
     "output_type": "execute_result"
    }
   ],
   "source": [
    "a.ndim                         #'ndim' is dimension length of array"
   ]
  },
  {
   "cell_type": "code",
   "execution_count": 44,
   "id": "b47478c7",
   "metadata": {},
   "outputs": [
    {
     "data": {
      "text/plain": [
       "(4,)"
      ]
     },
     "execution_count": 44,
     "metadata": {},
     "output_type": "execute_result"
    }
   ],
   "source": [
    "a.shape             #'shape' is dimension knowledge of array.'4' is amount of element.After ',' is dimension knowledge of array"
   ]
  },
  {
   "cell_type": "code",
   "execution_count": 45,
   "id": "2cc7a0b0",
   "metadata": {},
   "outputs": [
    {
     "data": {
      "text/plain": [
       "4"
      ]
     },
     "execution_count": 45,
     "metadata": {},
     "output_type": "execute_result"
    }
   ],
   "source": [
    "a.size               #'size' give us amount of element."
   ]
  },
  {
   "cell_type": "code",
   "execution_count": 46,
   "id": "665ab989",
   "metadata": {},
   "outputs": [
    {
     "data": {
      "text/plain": [
       "dtype('int32')"
      ]
     },
     "execution_count": 46,
     "metadata": {},
     "output_type": "execute_result"
    }
   ],
   "source": [
    "a.dtype                  #'dtype' give us the type of integer."
   ]
  },
  {
   "cell_type": "code",
   "execution_count": 48,
   "id": "172d7c15",
   "metadata": {},
   "outputs": [
    {
     "data": {
      "text/plain": [
       "2"
      ]
     },
     "execution_count": 48,
     "metadata": {},
     "output_type": "execute_result"
    }
   ],
   "source": [
    "z.ndim"
   ]
  },
  {
   "cell_type": "code",
   "execution_count": 49,
   "id": "1bb59912",
   "metadata": {},
   "outputs": [
    {
     "data": {
      "text/plain": [
       "(4, 5)"
      ]
     },
     "execution_count": 49,
     "metadata": {},
     "output_type": "execute_result"
    }
   ],
   "source": [
    "z.shape"
   ]
  },
  {
   "cell_type": "code",
   "execution_count": 50,
   "id": "7577fec4",
   "metadata": {},
   "outputs": [
    {
     "data": {
      "text/plain": [
       "20"
      ]
     },
     "execution_count": 50,
     "metadata": {},
     "output_type": "execute_result"
    }
   ],
   "source": [
    "z.size "
   ]
  },
  {
   "cell_type": "code",
   "execution_count": 51,
   "id": "34dd12fb",
   "metadata": {},
   "outputs": [
    {
     "data": {
      "text/plain": [
       "dtype('float64')"
      ]
     },
     "execution_count": 51,
     "metadata": {},
     "output_type": "execute_result"
    }
   ],
   "source": [
    "z.dtype"
   ]
  },
  {
   "cell_type": "code",
   "execution_count": 9,
   "id": "96b3155c",
   "metadata": {},
   "outputs": [
    {
     "data": {
      "text/plain": [
       "numpy.ndarray"
      ]
     },
     "execution_count": 9,
     "metadata": {},
     "output_type": "execute_result"
    }
   ],
   "source": [
    "type(x)             #'x' is a numpy array"
   ]
  },
  {
   "cell_type": "code",
   "execution_count": 10,
   "id": "baf6adf8",
   "metadata": {},
   "outputs": [
    {
     "data": {
      "text/plain": [
       "numpy.ndarray"
      ]
     },
     "execution_count": 10,
     "metadata": {},
     "output_type": "execute_result"
    }
   ],
   "source": [
    "type(y)           #'y is a numpy array"
   ]
  },
  {
   "cell_type": "code",
   "execution_count": 12,
   "id": "1140e41a",
   "metadata": {},
   "outputs": [
    {
     "data": {
      "text/plain": [
       "array([ 7.58,  8.  ,  9.  , 10.  ])"
      ]
     },
     "execution_count": 12,
     "metadata": {},
     "output_type": "execute_result"
    }
   ],
   "source": [
    "x=np.array([7.58,8,9,10])              # all the them become the same type.\n",
    "x      "
   ]
  },
  {
   "cell_type": "code",
   "execution_count": 19,
   "id": "96c6175b",
   "metadata": {},
   "outputs": [
    {
     "data": {
      "text/plain": [
       "array([ 7,  8,  9, 10])"
      ]
     },
     "execution_count": 19,
     "metadata": {},
     "output_type": "execute_result"
    }
   ],
   "source": [
    "x=np.array([7.58,8,9,10], dtype='int')    \n",
    "x"
   ]
  },
  {
   "cell_type": "code",
   "execution_count": 18,
   "id": "bcfed6d3",
   "metadata": {},
   "outputs": [
    {
     "data": {
      "text/plain": [
       "array(['7.58', '8', '9', '10'], dtype='<U4')"
      ]
     },
     "execution_count": 18,
     "metadata": {},
     "output_type": "execute_result"
    }
   ],
   "source": [
    "x=np.array([7.58,8,9,10], dtype='str')  \n",
    "x"
   ]
  },
  {
   "cell_type": "code",
   "execution_count": null,
   "id": "70d6b129",
   "metadata": {},
   "outputs": [],
   "source": []
  },
  {
   "cell_type": "markdown",
   "id": "6ec2ee6d",
   "metadata": {},
   "source": [
    "### Array Creation ###"
   ]
  },
  {
   "cell_type": "code",
   "execution_count": 20,
   "id": "aecb0209",
   "metadata": {},
   "outputs": [
    {
     "data": {
      "text/plain": [
       "array([0., 0., 0., 0., 0., 0., 0., 0., 0., 0., 0., 0.])"
      ]
     },
     "execution_count": 20,
     "metadata": {},
     "output_type": "execute_result"
    }
   ],
   "source": [
    "np.zeros(12)                                 #fonk ve döngüler gezmek aralık olşturmak-ızgaralarda gezinmek için."
   ]
  },
  {
   "cell_type": "code",
   "execution_count": 23,
   "id": "9fb1f5a7",
   "metadata": {},
   "outputs": [
    {
     "data": {
      "text/plain": [
       "array(['1', '1', '1', '1', '1', '1', '1', '1', '1', '1', '1', '1', '1',\n",
       "       '1', '1', '1', '1', '1', '1', '1', '1', '1', '1', '1', '1'],\n",
       "      dtype='<U1')"
      ]
     },
     "execution_count": 23,
     "metadata": {},
     "output_type": "execute_result"
    }
   ],
   "source": [
    "np.ones((25), dtype='str')                               "
   ]
  },
  {
   "cell_type": "markdown",
   "id": "b1628877",
   "metadata": {},
   "source": [
    "#### If we write different number from '0,1 and 2', we use 'full' function. ####"
   ]
  },
  {
   "cell_type": "code",
   "execution_count": 27,
   "id": "111d0974",
   "metadata": {},
   "outputs": [
    {
     "data": {
      "text/plain": [
       "array([[5, 5, 5, 5, 5],\n",
       "       [5, 5, 5, 5, 5],\n",
       "       [5, 5, 5, 5, 5],\n",
       "       [5, 5, 5, 5, 5]])"
      ]
     },
     "execution_count": 27,
     "metadata": {},
     "output_type": "execute_result"
    }
   ],
   "source": [
    "np.full((4,5),5)                         "
   ]
  },
  {
   "cell_type": "code",
   "execution_count": 25,
   "id": "a4195089",
   "metadata": {},
   "outputs": [
    {
     "data": {
      "text/plain": [
       "array([[1, 1],\n",
       "       [1, 1],\n",
       "       [1, 1],\n",
       "       [1, 1],\n",
       "       [1, 1],\n",
       "       [1, 1]])"
      ]
     },
     "execution_count": 25,
     "metadata": {},
     "output_type": "execute_result"
    }
   ],
   "source": [
    "np.ones((6,2), dtype='int')"
   ]
  },
  {
   "cell_type": "code",
   "execution_count": 34,
   "id": "79dd1d29",
   "metadata": {},
   "outputs": [
    {
     "data": {
      "text/plain": [
       "array([5.        , 5.11111111, 5.22222222, 5.33333333, 5.44444444,\n",
       "       5.55555556, 5.66666667, 5.77777778, 5.88888889, 6.        ])"
      ]
     },
     "execution_count": 34,
     "metadata": {},
     "output_type": "execute_result"
    }
   ],
   "source": [
    "np.linspace(5,6, 10)           #'linspace' create ten numbers from 5 to 6 ."
   ]
  },
  {
   "cell_type": "code",
   "execution_count": 35,
   "id": "9b7d071a",
   "metadata": {},
   "outputs": [
    {
     "data": {
      "text/plain": [
       "array([ 1,  3,  5,  7,  9, 11, 13, 15, 17, 19, 21, 23, 25, 27, 29])"
      ]
     },
     "execution_count": 35,
     "metadata": {},
     "output_type": "execute_result"
    }
   ],
   "source": [
    "np.arange(1,30, 2)            #'arange' give the range and rise as 'range' function."
   ]
  },
  {
   "cell_type": "markdown",
   "id": "c7af5b5b",
   "metadata": {},
   "source": [
    "#### We create array ramdomly with normal distribution.First value(5) is average and second value(4) is standard deviation.(4,5) are the row and column of array. ####\n",
    " "
   ]
  },
  {
   "cell_type": "code",
   "execution_count": 47,
   "id": "ebead615",
   "metadata": {},
   "outputs": [
    {
     "data": {
      "text/plain": [
       "array([[ 7.19359222,  6.86660111,  6.47782171,  1.67832029,  3.56062975],\n",
       "       [ 8.2782432 ,  1.91978393,  0.8836276 ,  8.8567829 ,  4.82732997],\n",
       "       [ 6.53048698,  0.973569  ,  5.74609943,  3.21694363,  1.23019814],\n",
       "       [-2.514943  , -0.03662686,  8.49567317,  3.64561933,  8.5315377 ]])"
      ]
     },
     "execution_count": 47,
     "metadata": {},
     "output_type": "execute_result"
    }
   ],
   "source": [
    "z=np.random.normal(5,4, (4,5))\n",
    "z"
   ]
  },
  {
   "cell_type": "code",
   "execution_count": 38,
   "id": "c2ecc47a",
   "metadata": {},
   "outputs": [
    {
     "data": {
      "text/plain": [
       "array([[20, 13, 18, 15,  9],\n",
       "       [25, 11, 15, 25,  6],\n",
       "       [17, 14, 25, 24,  9],\n",
       "       [ 5,  6, 23, 24,  8]])"
      ]
     },
     "execution_count": 38,
     "metadata": {},
     "output_type": "execute_result"
    }
   ],
   "source": [
    "np.random.randint(5,30, (4,5))"
   ]
  },
  {
   "cell_type": "markdown",
   "id": "088767fe",
   "metadata": {},
   "source": [
    "### Reshape ###"
   ]
  },
  {
   "cell_type": "code",
   "execution_count": 54,
   "id": "468b69a7",
   "metadata": {},
   "outputs": [
    {
     "data": {
      "text/plain": [
       "array([ 4,  7, 10, 13])"
      ]
     },
     "execution_count": 54,
     "metadata": {},
     "output_type": "execute_result"
    }
   ],
   "source": [
    "np.arange(4,15,3)                          "
   ]
  },
  {
   "cell_type": "code",
   "execution_count": 72,
   "id": "46f16bd3",
   "metadata": {},
   "outputs": [
    {
     "data": {
      "text/plain": [
       "array([ 4,  5,  6,  7,  8,  9, 10, 11, 12, 13, 14, 15])"
      ]
     },
     "execution_count": 72,
     "metadata": {},
     "output_type": "execute_result"
    }
   ],
   "source": [
    "np.arange(4,16)"
   ]
  },
  {
   "cell_type": "code",
   "execution_count": 73,
   "id": "c5d4c3b7",
   "metadata": {},
   "outputs": [
    {
     "data": {
      "text/plain": [
       "array([[ 4,  5,  6],\n",
       "       [ 7,  8,  9],\n",
       "       [10, 11, 12],\n",
       "       [13, 14, 15]])"
      ]
     },
     "execution_count": 73,
     "metadata": {},
     "output_type": "execute_result"
    }
   ],
   "source": [
    "np.arange(4,16).reshape((4,3))   #We use 'reshape' one more dimension from one or \n",
    "                                 #we want to change dimension as the same value we change dimension "
   ]
  },
  {
   "cell_type": "code",
   "execution_count": 103,
   "id": "3e66403f",
   "metadata": {},
   "outputs": [
    {
     "data": {
      "text/plain": [
       "array([[1, 2, 3],\n",
       "       [4, 5, 6],\n",
       "       [7, 8, 9]])"
      ]
     },
     "execution_count": 103,
     "metadata": {},
     "output_type": "execute_result"
    }
   ],
   "source": [
    "n=np.arange(1,10).reshape((3,3))\n",
    "n"
   ]
  },
  {
   "cell_type": "code",
   "execution_count": 90,
   "id": "a5dce87c",
   "metadata": {},
   "outputs": [
    {
     "data": {
      "text/plain": [
       "array([1, 2, 3, 4, 5, 6, 7, 8, 9])"
      ]
     },
     "execution_count": 90,
     "metadata": {},
     "output_type": "execute_result"
    }
   ],
   "source": [
    "c=np.arange(1,10)\n",
    "c"
   ]
  },
  {
   "cell_type": "code",
   "execution_count": 91,
   "id": "ac6beafc",
   "metadata": {},
   "outputs": [
    {
     "data": {
      "text/plain": [
       "1"
      ]
     },
     "execution_count": 91,
     "metadata": {},
     "output_type": "execute_result"
    }
   ],
   "source": [
    "c.ndim"
   ]
  },
  {
   "cell_type": "code",
   "execution_count": 92,
   "id": "e2302fa8",
   "metadata": {},
   "outputs": [
    {
     "data": {
      "text/plain": [
       "array([[1, 2, 3, 4, 5, 6, 7, 8, 9]])"
      ]
     },
     "execution_count": 92,
     "metadata": {},
     "output_type": "execute_result"
    }
   ],
   "source": [
    "ı=c.reshape((1,9))                           \n",
    "ı"
   ]
  },
  {
   "cell_type": "code",
   "execution_count": 93,
   "id": "09201d8d",
   "metadata": {},
   "outputs": [
    {
     "data": {
      "text/plain": [
       "2"
      ]
     },
     "execution_count": 93,
     "metadata": {},
     "output_type": "execute_result"
    }
   ],
   "source": [
    "ı.ndim"
   ]
  },
  {
   "cell_type": "markdown",
   "id": "6ee4b133",
   "metadata": {},
   "source": [
    "### Concatenate ###"
   ]
  },
  {
   "cell_type": "code",
   "execution_count": 97,
   "id": "d8887c71",
   "metadata": {},
   "outputs": [
    {
     "data": {
      "text/plain": [
       "array([ 7,  8,  9, 10])"
      ]
     },
     "execution_count": 97,
     "metadata": {},
     "output_type": "execute_result"
    }
   ],
   "source": [
    "x"
   ]
  },
  {
   "cell_type": "code",
   "execution_count": 98,
   "id": "7ea9f57d",
   "metadata": {},
   "outputs": [
    {
     "data": {
      "text/plain": [
       "array([2, 3, 4, 5])"
      ]
     },
     "execution_count": 98,
     "metadata": {},
     "output_type": "execute_result"
    }
   ],
   "source": [
    "y"
   ]
  },
  {
   "cell_type": "code",
   "execution_count": 100,
   "id": "49a5177c",
   "metadata": {},
   "outputs": [
    {
     "data": {
      "text/plain": [
       "array([ 7,  8,  9, 10,  2,  3,  4,  5])"
      ]
     },
     "execution_count": 100,
     "metadata": {},
     "output_type": "execute_result"
    }
   ],
   "source": [
    "np.concatenate([x,y])"
   ]
  },
  {
   "cell_type": "code",
   "execution_count": 104,
   "id": "947c406c",
   "metadata": {},
   "outputs": [
    {
     "data": {
      "text/plain": [
       "array([[1, 2, 3],\n",
       "       [4, 5, 6],\n",
       "       [7, 8, 9]])"
      ]
     },
     "execution_count": 104,
     "metadata": {},
     "output_type": "execute_result"
    }
   ],
   "source": [
    "n"
   ]
  },
  {
   "cell_type": "code",
   "execution_count": 105,
   "id": "ffaea039",
   "metadata": {},
   "outputs": [
    {
     "data": {
      "text/plain": [
       "array([[1, 2, 3],\n",
       "       [4, 5, 6],\n",
       "       [7, 8, 9],\n",
       "       [1, 2, 3],\n",
       "       [4, 5, 6],\n",
       "       [7, 8, 9]])"
      ]
     },
     "execution_count": 105,
     "metadata": {},
     "output_type": "execute_result"
    }
   ],
   "source": [
    "np.concatenate([n,n])"
   ]
  },
  {
   "cell_type": "code",
   "execution_count": 106,
   "id": "e04ac8fb",
   "metadata": {},
   "outputs": [
    {
     "data": {
      "text/plain": [
       "array([[1, 2, 3],\n",
       "       [4, 5, 6],\n",
       "       [7, 8, 9],\n",
       "       [1, 2, 3],\n",
       "       [4, 5, 6],\n",
       "       [7, 8, 9]])"
      ]
     },
     "execution_count": 106,
     "metadata": {},
     "output_type": "execute_result"
    }
   ],
   "source": [
    "np.concatenate([n,n], axis=0)           # 0=row"
   ]
  },
  {
   "cell_type": "code",
   "execution_count": 107,
   "id": "4836b24f",
   "metadata": {},
   "outputs": [
    {
     "data": {
      "text/plain": [
       "array([[1, 2, 3, 1, 2, 3],\n",
       "       [4, 5, 6, 4, 5, 6],\n",
       "       [7, 8, 9, 7, 8, 9]])"
      ]
     },
     "execution_count": 107,
     "metadata": {},
     "output_type": "execute_result"
    }
   ],
   "source": [
    "np.concatenate([n,n], axis=1)          #1=column"
   ]
  },
  {
   "cell_type": "markdown",
   "id": "7867c7b2",
   "metadata": {},
   "source": [
    "#### Split ####"
   ]
  },
  {
   "cell_type": "code",
   "execution_count": 108,
   "id": "97f0c1d3",
   "metadata": {},
   "outputs": [],
   "source": [
    "t=np.array([52,45,86,42,120])"
   ]
  },
  {
   "cell_type": "code",
   "execution_count": 111,
   "id": "41f5e2c5",
   "metadata": {},
   "outputs": [
    {
     "data": {
      "text/plain": [
       "[array([52, 45]), array([86, 42]), array([120])]"
      ]
     },
     "execution_count": 111,
     "metadata": {},
     "output_type": "execute_result"
    }
   ],
   "source": [
    "np.split(t, (2,4))                             #Split from second element and from fourth element."
   ]
  },
  {
   "cell_type": "code",
   "execution_count": 120,
   "id": "edbb6020",
   "metadata": {},
   "outputs": [],
   "source": [
    "w,q,r=np.split(t, (2,4))"
   ]
  },
  {
   "cell_type": "code",
   "execution_count": 121,
   "id": "9d9f3ebd",
   "metadata": {},
   "outputs": [
    {
     "data": {
      "text/plain": [
       "array([52, 45])"
      ]
     },
     "execution_count": 121,
     "metadata": {},
     "output_type": "execute_result"
    }
   ],
   "source": [
    "w"
   ]
  },
  {
   "cell_type": "code",
   "execution_count": 122,
   "id": "72279ce9",
   "metadata": {},
   "outputs": [
    {
     "data": {
      "text/plain": [
       "array([86, 42])"
      ]
     },
     "execution_count": 122,
     "metadata": {},
     "output_type": "execute_result"
    }
   ],
   "source": [
    "q"
   ]
  },
  {
   "cell_type": "code",
   "execution_count": 123,
   "id": "32096e96",
   "metadata": {},
   "outputs": [
    {
     "data": {
      "text/plain": [
       "array([120])"
      ]
     },
     "execution_count": 123,
     "metadata": {},
     "output_type": "execute_result"
    }
   ],
   "source": [
    "r"
   ]
  },
  {
   "cell_type": "code",
   "execution_count": 114,
   "id": "47bb2e24",
   "metadata": {},
   "outputs": [
    {
     "data": {
      "text/plain": [
       "array([[1, 2, 3],\n",
       "       [4, 5, 6],\n",
       "       [7, 8, 9]])"
      ]
     },
     "execution_count": 114,
     "metadata": {},
     "output_type": "execute_result"
    }
   ],
   "source": [
    "n"
   ]
  },
  {
   "cell_type": "code",
   "execution_count": 117,
   "id": "69b87f99",
   "metadata": {},
   "outputs": [
    {
     "data": {
      "text/plain": [
       "[array([[1, 2, 3]]), array([[4, 5, 6]]), array([[7, 8, 9]])]"
      ]
     },
     "execution_count": 117,
     "metadata": {},
     "output_type": "execute_result"
    }
   ],
   "source": [
    "np.split(n, (1,2))"
   ]
  },
  {
   "cell_type": "code",
   "execution_count": 137,
   "id": "d47e27c4",
   "metadata": {},
   "outputs": [
    {
     "data": {
      "text/plain": [
       "array([[ 2,  4],\n",
       "       [ 6,  8],\n",
       "       [10, 12],\n",
       "       [14, 16],\n",
       "       [18, 20]])"
      ]
     },
     "execution_count": 137,
     "metadata": {},
     "output_type": "execute_result"
    }
   ],
   "source": [
    "d=np.arange(2,22, 2).reshape(5,2)\n",
    "d"
   ]
  },
  {
   "cell_type": "code",
   "execution_count": 139,
   "id": "00f4963a",
   "metadata": {},
   "outputs": [
    {
     "data": {
      "text/plain": [
       "[array([[1, 2, 3],\n",
       "        [4, 5, 6]]),\n",
       " array([[7, 8, 9]])]"
      ]
     },
     "execution_count": 139,
     "metadata": {},
     "output_type": "execute_result"
    }
   ],
   "source": [
    "np.vsplit(n, [2])"
   ]
  },
  {
   "cell_type": "code",
   "execution_count": 142,
   "id": "eb418fd9",
   "metadata": {},
   "outputs": [],
   "source": [
    "on,b=np.vsplit(n, [2])"
   ]
  },
  {
   "cell_type": "code",
   "execution_count": 143,
   "id": "f7988854",
   "metadata": {},
   "outputs": [
    {
     "data": {
      "text/plain": [
       "array([[1, 2, 3],\n",
       "       [4, 5, 6]])"
      ]
     },
     "execution_count": 143,
     "metadata": {},
     "output_type": "execute_result"
    }
   ],
   "source": [
    "on"
   ]
  },
  {
   "cell_type": "code",
   "execution_count": 144,
   "id": "0f3f2eeb",
   "metadata": {},
   "outputs": [
    {
     "data": {
      "text/plain": [
       "array([[7, 8, 9]])"
      ]
     },
     "execution_count": 144,
     "metadata": {},
     "output_type": "execute_result"
    }
   ],
   "source": [
    "b"
   ]
  },
  {
   "cell_type": "code",
   "execution_count": 145,
   "id": "2f1727cb",
   "metadata": {},
   "outputs": [
    {
     "data": {
      "text/plain": [
       "[array([[1, 2],\n",
       "        [4, 5],\n",
       "        [7, 8]]),\n",
       " array([[3],\n",
       "        [6],\n",
       "        [9]])]"
      ]
     },
     "execution_count": 145,
     "metadata": {},
     "output_type": "execute_result"
    }
   ],
   "source": [
    "np.hsplit(n, [2])"
   ]
  },
  {
   "cell_type": "code",
   "execution_count": 146,
   "id": "1e20b721",
   "metadata": {},
   "outputs": [],
   "source": [
    "on2,b2=np.hsplit(n, [2])"
   ]
  },
  {
   "cell_type": "code",
   "execution_count": 147,
   "id": "fad23eb8",
   "metadata": {},
   "outputs": [
    {
     "data": {
      "text/plain": [
       "array([[1, 2],\n",
       "       [4, 5],\n",
       "       [7, 8]])"
      ]
     },
     "execution_count": 147,
     "metadata": {},
     "output_type": "execute_result"
    }
   ],
   "source": [
    "on2"
   ]
  },
  {
   "cell_type": "code",
   "execution_count": 148,
   "id": "ec4270b4",
   "metadata": {},
   "outputs": [
    {
     "data": {
      "text/plain": [
       "array([[3],\n",
       "       [6],\n",
       "       [9]])"
      ]
     },
     "execution_count": 148,
     "metadata": {},
     "output_type": "execute_result"
    }
   ],
   "source": [
    "b2"
   ]
  },
  {
   "cell_type": "markdown",
   "id": "80ca0881",
   "metadata": {},
   "source": [
    "#### Sort ####"
   ]
  },
  {
   "cell_type": "code",
   "execution_count": 180,
   "id": "779dea17",
   "metadata": {},
   "outputs": [
    {
     "data": {
      "text/plain": [
       "array([[1, 2, 3],\n",
       "       [4, 5, 6],\n",
       "       [7, 8, 9]])"
      ]
     },
     "execution_count": 180,
     "metadata": {},
     "output_type": "execute_result"
    }
   ],
   "source": [
    "n"
   ]
  },
  {
   "cell_type": "code",
   "execution_count": 170,
   "id": "59b4ece3",
   "metadata": {},
   "outputs": [],
   "source": [
    "z=np.arange(18,0,-1)"
   ]
  },
  {
   "cell_type": "code",
   "execution_count": 171,
   "id": "92bdbaab",
   "metadata": {},
   "outputs": [
    {
     "data": {
      "text/plain": [
       "array([ 1,  2,  3,  4,  5,  6,  7,  8,  9, 10, 11, 12, 13, 14, 15, 16, 17,\n",
       "       18])"
      ]
     },
     "execution_count": 171,
     "metadata": {},
     "output_type": "execute_result"
    }
   ],
   "source": [
    "np.sort(z)                                                 #np.sort(z) does not change the sorting of the numbers."
   ]
  },
  {
   "cell_type": "code",
   "execution_count": 172,
   "id": "5542e93d",
   "metadata": {},
   "outputs": [
    {
     "data": {
      "text/plain": [
       "array([18, 17, 16, 15, 14, 13, 12, 11, 10,  9,  8,  7,  6,  5,  4,  3,  2,\n",
       "        1])"
      ]
     },
     "execution_count": 172,
     "metadata": {},
     "output_type": "execute_result"
    }
   ],
   "source": [
    "z"
   ]
  },
  {
   "cell_type": "code",
   "execution_count": 178,
   "id": "7bf70357",
   "metadata": {},
   "outputs": [
    {
     "data": {
      "text/plain": [
       "array([ 1,  2,  3,  4,  5,  6,  7,  8,  9, 10, 11, 12, 13, 14, 15, 16, 17,\n",
       "       18])"
      ]
     },
     "execution_count": 178,
     "metadata": {},
     "output_type": "execute_result"
    }
   ],
   "source": [
    "z.sort()\n",
    "z"
   ]
  },
  {
   "cell_type": "code",
   "execution_count": 179,
   "id": "d0735753",
   "metadata": {},
   "outputs": [
    {
     "data": {
      "text/plain": [
       "array([ 1,  2,  3,  4,  5,  6,  7,  8,  9, 10, 11, 12, 13, 14, 15, 16, 17,\n",
       "       18])"
      ]
     },
     "execution_count": 179,
     "metadata": {},
     "output_type": "execute_result"
    }
   ],
   "source": [
    "z                                                        #z.sort() change the sorting of the numbers"
   ]
  },
  {
   "cell_type": "code",
   "execution_count": 184,
   "id": "1650bbcd",
   "metadata": {},
   "outputs": [
    {
     "data": {
      "text/plain": [
       "array([[19, 18, 17, 16, 15, 14, 13, 12, 11],\n",
       "       [10,  9,  8,  7,  6,  5,  4,  3,  2]])"
      ]
     },
     "execution_count": 184,
     "metadata": {},
     "output_type": "execute_result"
    }
   ],
   "source": [
    "np.arange(19,1,-1).reshape(2,9)"
   ]
  },
  {
   "cell_type": "code",
   "execution_count": 186,
   "id": "f3ed17df",
   "metadata": {},
   "outputs": [
    {
     "data": {
      "text/plain": [
       "array([[19, 18, 17, 16, 15, 14, 13, 12, 11],\n",
       "       [10,  9,  8,  7,  6,  5,  4,  3,  2]])"
      ]
     },
     "execution_count": 186,
     "metadata": {},
     "output_type": "execute_result"
    }
   ],
   "source": [
    "k=np.arange(19,1,-1).reshape(2,9)\n",
    "k"
   ]
  },
  {
   "cell_type": "code",
   "execution_count": 188,
   "id": "6d1ef7d8",
   "metadata": {},
   "outputs": [
    {
     "data": {
      "text/plain": [
       "array([[11, 12, 13, 14, 15, 16, 17, 18, 19],\n",
       "       [ 2,  3,  4,  5,  6,  7,  8,  9, 10]])"
      ]
     },
     "execution_count": 188,
     "metadata": {},
     "output_type": "execute_result"
    }
   ],
   "source": [
    "np.sort(k)"
   ]
  },
  {
   "cell_type": "code",
   "execution_count": 190,
   "id": "02726306",
   "metadata": {},
   "outputs": [
    {
     "data": {
      "text/plain": [
       "array([[11, 12, 13, 14, 15, 16, 17, 18, 19],\n",
       "       [ 2,  3,  4,  5,  6,  7,  8,  9, 10]])"
      ]
     },
     "execution_count": 190,
     "metadata": {},
     "output_type": "execute_result"
    }
   ],
   "source": [
    "k.sort()\n",
    "k"
   ]
  },
  {
   "cell_type": "code",
   "execution_count": 191,
   "id": "c59229cc",
   "metadata": {},
   "outputs": [
    {
     "data": {
      "text/plain": [
       "array([[11, 12, 13, 14, 15, 16, 17, 18, 19],\n",
       "       [ 2,  3,  4,  5,  6,  7,  8,  9, 10]])"
      ]
     },
     "execution_count": 191,
     "metadata": {},
     "output_type": "execute_result"
    }
   ],
   "source": [
    "k                                                               #z.sort() change the sorting of the numbers"
   ]
  },
  {
   "cell_type": "markdown",
   "id": "77ebee0b",
   "metadata": {},
   "source": [
    "#### Index ####"
   ]
  },
  {
   "cell_type": "code",
   "execution_count": 194,
   "id": "8f9a5188",
   "metadata": {},
   "outputs": [
    {
     "data": {
      "text/plain": [
       "array([[11, 12, 13, 14, 15, 16, 17, 18, 19],\n",
       "       [ 2,  3,  4,  5,  6,  7,  8,  9, 10]])"
      ]
     },
     "execution_count": 194,
     "metadata": {},
     "output_type": "execute_result"
    }
   ],
   "source": [
    "k"
   ]
  },
  {
   "cell_type": "code",
   "execution_count": 193,
   "id": "785e48cb",
   "metadata": {},
   "outputs": [
    {
     "data": {
      "text/plain": [
       "array([ 2,  3,  4,  5,  6,  7,  8,  9, 10])"
      ]
     },
     "execution_count": 193,
     "metadata": {},
     "output_type": "execute_result"
    }
   ],
   "source": [
    "k[1]"
   ]
  },
  {
   "cell_type": "code",
   "execution_count": 198,
   "id": "b65afbe4",
   "metadata": {},
   "outputs": [
    {
     "data": {
      "text/plain": [
       "array([ 2,  3,  4,  5,  6,  7,  8,  9, 10])"
      ]
     },
     "execution_count": 198,
     "metadata": {},
     "output_type": "execute_result"
    }
   ],
   "source": [
    "k[-1]"
   ]
  },
  {
   "cell_type": "code",
   "execution_count": 195,
   "id": "90d21fe9",
   "metadata": {},
   "outputs": [
    {
     "data": {
      "text/plain": [
       "array([ 1,  2,  3,  4,  5,  6,  7,  8,  9, 10, 11, 12, 13, 14, 15, 16, 17,\n",
       "       18])"
      ]
     },
     "execution_count": 195,
     "metadata": {},
     "output_type": "execute_result"
    }
   ],
   "source": [
    "z"
   ]
  },
  {
   "cell_type": "code",
   "execution_count": 196,
   "id": "a6efc7fc",
   "metadata": {},
   "outputs": [
    {
     "data": {
      "text/plain": [
       "6"
      ]
     },
     "execution_count": 196,
     "metadata": {},
     "output_type": "execute_result"
    }
   ],
   "source": [
    "z[5]"
   ]
  },
  {
   "cell_type": "code",
   "execution_count": 197,
   "id": "013d982b",
   "metadata": {},
   "outputs": [
    {
     "data": {
      "text/plain": [
       "3"
      ]
     },
     "execution_count": 197,
     "metadata": {},
     "output_type": "execute_result"
    }
   ],
   "source": [
    "z[2]"
   ]
  },
  {
   "cell_type": "code",
   "execution_count": 199,
   "id": "040535f6",
   "metadata": {},
   "outputs": [
    {
     "data": {
      "text/plain": [
       "11"
      ]
     },
     "execution_count": 199,
     "metadata": {},
     "output_type": "execute_result"
    }
   ],
   "source": [
    "z[10]"
   ]
  },
  {
   "cell_type": "code",
   "execution_count": 200,
   "id": "93d8b68c",
   "metadata": {},
   "outputs": [
    {
     "data": {
      "text/plain": [
       "array([[1, 2, 3],\n",
       "       [4, 5, 6],\n",
       "       [7, 8, 9]])"
      ]
     },
     "execution_count": 200,
     "metadata": {},
     "output_type": "execute_result"
    }
   ],
   "source": [
    "n"
   ]
  },
  {
   "cell_type": "code",
   "execution_count": 201,
   "id": "6864edc1",
   "metadata": {},
   "outputs": [
    {
     "data": {
      "text/plain": [
       "1"
      ]
     },
     "execution_count": 201,
     "metadata": {},
     "output_type": "execute_result"
    }
   ],
   "source": [
    "n[0,0]"
   ]
  },
  {
   "cell_type": "code",
   "execution_count": 202,
   "id": "ee7f232b",
   "metadata": {},
   "outputs": [
    {
     "data": {
      "text/plain": [
       "6"
      ]
     },
     "execution_count": 202,
     "metadata": {},
     "output_type": "execute_result"
    }
   ],
   "source": [
    "n[1,2]"
   ]
  },
  {
   "cell_type": "code",
   "execution_count": 203,
   "id": "601fc428",
   "metadata": {},
   "outputs": [
    {
     "data": {
      "text/plain": [
       "array([1, 2, 3])"
      ]
     },
     "execution_count": 203,
     "metadata": {},
     "output_type": "execute_result"
    }
   ],
   "source": [
    "n[0]"
   ]
  },
  {
   "cell_type": "code",
   "execution_count": 205,
   "id": "cba472d6",
   "metadata": {},
   "outputs": [
    {
     "data": {
      "text/plain": [
       "array([[  1,   2,   3],\n",
       "       [  4,   5, 888],\n",
       "       [  7,   8,   9]])"
      ]
     },
     "execution_count": 205,
     "metadata": {},
     "output_type": "execute_result"
    }
   ],
   "source": [
    "n[1,2]=888\n",
    "n                                                            #fixtype"
   ]
  },
  {
   "cell_type": "markdown",
   "id": "2c823a0d",
   "metadata": {},
   "source": [
    "#### Slice ####"
   ]
  },
  {
   "cell_type": "code",
   "execution_count": 207,
   "id": "38f37c8f",
   "metadata": {},
   "outputs": [
    {
     "data": {
      "text/plain": [
       "array([ 1,  2,  3,  4,  5,  6,  7,  8,  9, 10, 11, 12, 13, 14, 15, 16, 17,\n",
       "       18])"
      ]
     },
     "execution_count": 207,
     "metadata": {},
     "output_type": "execute_result"
    }
   ],
   "source": [
    "z"
   ]
  },
  {
   "cell_type": "code",
   "execution_count": 206,
   "id": "f2540593",
   "metadata": {},
   "outputs": [
    {
     "data": {
      "text/plain": [
       "array([2, 3, 4, 5])"
      ]
     },
     "execution_count": 206,
     "metadata": {},
     "output_type": "execute_result"
    }
   ],
   "source": [
    "z[1:5]"
   ]
  },
  {
   "cell_type": "code",
   "execution_count": 208,
   "id": "e3afcb7b",
   "metadata": {},
   "outputs": [
    {
     "data": {
      "text/plain": [
       "array([ 2,  3,  4,  5,  6,  7,  8,  9, 10, 11, 12, 13, 14, 15, 16, 17, 18])"
      ]
     },
     "execution_count": 208,
     "metadata": {},
     "output_type": "execute_result"
    }
   ],
   "source": [
    "z[1:]"
   ]
  },
  {
   "cell_type": "code",
   "execution_count": 209,
   "id": "86b14732",
   "metadata": {},
   "outputs": [
    {
     "data": {
      "text/plain": [
       "array([ 1,  6, 11, 16])"
      ]
     },
     "execution_count": 209,
     "metadata": {},
     "output_type": "execute_result"
    }
   ],
   "source": [
    "z[::5]"
   ]
  },
  {
   "cell_type": "code",
   "execution_count": 210,
   "id": "4ae6c430",
   "metadata": {},
   "outputs": [
    {
     "data": {
      "text/plain": [
       "array([[  1,   2,   3],\n",
       "       [  4,   5, 888],\n",
       "       [  7,   8,   9]])"
      ]
     },
     "execution_count": 210,
     "metadata": {},
     "output_type": "execute_result"
    }
   ],
   "source": [
    "n"
   ]
  },
  {
   "cell_type": "code",
   "execution_count": 213,
   "id": "b23a64ed",
   "metadata": {},
   "outputs": [
    {
     "data": {
      "text/plain": [
       "array([2, 5, 8])"
      ]
     },
     "execution_count": 213,
     "metadata": {},
     "output_type": "execute_result"
    }
   ],
   "source": [
    "n[:,1]                                 #2D"
   ]
  },
  {
   "cell_type": "code",
   "execution_count": 216,
   "id": "fcba9719",
   "metadata": {},
   "outputs": [
    {
     "data": {
      "text/plain": [
       "array([  4,   5, 888])"
      ]
     },
     "execution_count": 216,
     "metadata": {},
     "output_type": "execute_result"
    }
   ],
   "source": [
    "n[1,:]"
   ]
  },
  {
   "cell_type": "code",
   "execution_count": 224,
   "id": "b667e187",
   "metadata": {},
   "outputs": [
    {
     "data": {
      "text/plain": [
       "array([[1, 2, 3]])"
      ]
     },
     "execution_count": 224,
     "metadata": {},
     "output_type": "execute_result"
    }
   ],
   "source": [
    "n[:1]"
   ]
  },
  {
   "cell_type": "code",
   "execution_count": 221,
   "id": "332a698c",
   "metadata": {},
   "outputs": [
    {
     "data": {
      "text/plain": [
       "array([[  1,   2,   3],\n",
       "       [  4,   5, 888]])"
      ]
     },
     "execution_count": 221,
     "metadata": {},
     "output_type": "execute_result"
    }
   ],
   "source": [
    "n[0:2, 0:3]"
   ]
  },
  {
   "cell_type": "code",
   "execution_count": 223,
   "id": "d65cb95e",
   "metadata": {},
   "outputs": [
    {
     "data": {
      "text/plain": [
       "array([[1, 2],\n",
       "       [4, 5],\n",
       "       [7, 8]])"
      ]
     },
     "execution_count": 223,
     "metadata": {},
     "output_type": "execute_result"
    }
   ],
   "source": [
    "n[:, 0:2]"
   ]
  },
  {
   "cell_type": "code",
   "execution_count": 232,
   "id": "1b7542c2",
   "metadata": {},
   "outputs": [
    {
     "data": {
      "text/plain": [
       "array([[ 3,  8,  9, 11, 18, 13, 14],\n",
       "       [14,  4, 16, 12,  1, 10,  2],\n",
       "       [ 8,  1, 16, 13, 12, 17, 12],\n",
       "       [18, 11, 12,  5, 19, 10, 19],\n",
       "       [ 7, 18,  8, 10, 12, 14,  8],\n",
       "       [ 0, 14, 17,  5,  4, 15, 13],\n",
       "       [14, 12,  9,  3,  3,  8,  2]])"
      ]
     },
     "execution_count": 232,
     "metadata": {},
     "output_type": "execute_result"
    }
   ],
   "source": [
    "e=np.random.randint(20, size=(7,7))\n",
    "e"
   ]
  },
  {
   "cell_type": "code",
   "execution_count": 234,
   "id": "7d7b71db",
   "metadata": {},
   "outputs": [
    {
     "data": {
      "text/plain": [
       "array([[16, 12,  1],\n",
       "       [16, 13, 12]])"
      ]
     },
     "execution_count": 234,
     "metadata": {},
     "output_type": "execute_result"
    }
   ],
   "source": [
    "subset=e[1:3, 2:5]\n",
    "subset"
   ]
  },
  {
   "cell_type": "code",
   "execution_count": 247,
   "id": "f8566cae",
   "metadata": {},
   "outputs": [
    {
     "data": {
      "text/plain": [
       "array([[18, 13, 14]])"
      ]
     },
     "execution_count": 247,
     "metadata": {},
     "output_type": "execute_result"
    }
   ],
   "source": [
    "subset1=e[:1,4:]\n",
    "subset1"
   ]
  },
  {
   "cell_type": "code",
   "execution_count": 252,
   "id": "d54456a8",
   "metadata": {},
   "outputs": [
    {
     "data": {
      "text/plain": [
       "10"
      ]
     },
     "execution_count": 252,
     "metadata": {},
     "output_type": "execute_result"
    }
   ],
   "source": [
    "subset2=e[1,5]\n",
    "subset2"
   ]
  },
  {
   "cell_type": "code",
   "execution_count": 243,
   "id": "ae6b744b",
   "metadata": {},
   "outputs": [],
   "source": [
    "subset[1,1]=99999"
   ]
  },
  {
   "cell_type": "code",
   "execution_count": 244,
   "id": "1180721d",
   "metadata": {},
   "outputs": [
    {
     "data": {
      "text/plain": [
       "array([[   16,    12,     1],\n",
       "       [   16, 99999,    12]])"
      ]
     },
     "execution_count": 244,
     "metadata": {},
     "output_type": "execute_result"
    }
   ],
   "source": [
    "subset"
   ]
  },
  {
   "cell_type": "code",
   "execution_count": 248,
   "id": "d324ea26",
   "metadata": {},
   "outputs": [
    {
     "data": {
      "text/plain": [
       "array([[1111111,      13,      14]])"
      ]
     },
     "execution_count": 248,
     "metadata": {},
     "output_type": "execute_result"
    }
   ],
   "source": [
    "subset1[0,0]=1111111\n",
    "subset1"
   ]
  },
  {
   "cell_type": "code",
   "execution_count": 249,
   "id": "2c6364bd",
   "metadata": {},
   "outputs": [
    {
     "data": {
      "text/plain": [
       "array([[      3,       8,       9,      11, 1111111,      13,      14],\n",
       "       [     14,       4,      16,      12,       1,      10,       2],\n",
       "       [      8,       1,      16,   99999,      12,      17,      12],\n",
       "       [     18,      11,      12,       5,      19,      10,      19],\n",
       "       [      7,      18,       8,      10,      12,      14,       8],\n",
       "       [      0,      14,      17,       5,       4,      15,      13],\n",
       "       [     14,      12,       9,       3,       3,       8,       2]])"
      ]
     },
     "execution_count": 249,
     "metadata": {},
     "output_type": "execute_result"
    }
   ],
   "source": [
    "e                                                       "
   ]
  },
  {
   "cell_type": "code",
   "execution_count": 260,
   "id": "976f4ee1",
   "metadata": {},
   "outputs": [
    {
     "data": {
      "text/plain": [
       "array([[ 3,  8],\n",
       "       [14,  4],\n",
       "       [ 8,  1],\n",
       "       [18, 11],\n",
       "       [ 7, 18]])"
      ]
     },
     "execution_count": 260,
     "metadata": {},
     "output_type": "execute_result"
    }
   ],
   "source": [
    "subset3=e[0:5,0:2].copy()\n",
    "subset3"
   ]
  },
  {
   "cell_type": "code",
   "execution_count": 262,
   "id": "735da6c6",
   "metadata": {},
   "outputs": [
    {
     "data": {
      "text/plain": [
       "array([[   3,    8],\n",
       "       [  14,    4],\n",
       "       [   8, 8758],\n",
       "       [  18,   11],\n",
       "       [   7,   18]])"
      ]
     },
     "execution_count": 262,
     "metadata": {},
     "output_type": "execute_result"
    }
   ],
   "source": [
    "subset3[2,1]=8758\n",
    "subset3"
   ]
  },
  {
   "cell_type": "code",
   "execution_count": 263,
   "id": "348f2d5e",
   "metadata": {},
   "outputs": [
    {
     "data": {
      "text/plain": [
       "array([[      3,       8,       9,      11, 1111111,      13,      14],\n",
       "       [     14,       4,      16,      12,       1,      10,       2],\n",
       "       [      8,       1,      16,   99999,      12,      17,      12],\n",
       "       [     18,      11,      12,       5,      19,      10,      19],\n",
       "       [      7,      18,       8,      10,      12,      14,       8],\n",
       "       [      0,      14,      17,       5,       4,      15,      13],\n",
       "       [     14,      12,       9,       3,       3,       8,       2]])"
      ]
     },
     "execution_count": 263,
     "metadata": {},
     "output_type": "execute_result"
    }
   ],
   "source": [
    "e                                   # There is no 'subset3[2,1]=8758' in the range because of change in the copy range."
   ]
  },
  {
   "cell_type": "markdown",
   "id": "862e540f",
   "metadata": {},
   "source": [
    "#### Fancy İndex ####"
   ]
  },
  {
   "cell_type": "code",
   "execution_count": 274,
   "id": "52d9b09d",
   "metadata": {},
   "outputs": [
    {
     "data": {
      "text/plain": [
       "array([10,  9,  8,  7,  6,  5,  4,  3,  2])"
      ]
     },
     "execution_count": 274,
     "metadata": {},
     "output_type": "execute_result"
    }
   ],
   "source": [
    "p=np.arange(10,1,-1)\n",
    "p"
   ]
  },
  {
   "cell_type": "code",
   "execution_count": 275,
   "id": "fa21b496",
   "metadata": {},
   "outputs": [],
   "source": [
    "brin=[2,4,5]"
   ]
  },
  {
   "cell_type": "code",
   "execution_count": 277,
   "id": "835872a8",
   "metadata": {},
   "outputs": [
    {
     "data": {
      "text/plain": [
       "array([8, 6, 5])"
      ]
     },
     "execution_count": 277,
     "metadata": {},
     "output_type": "execute_result"
    }
   ],
   "source": [
    "p[brin]"
   ]
  },
  {
   "cell_type": "code",
   "execution_count": 278,
   "id": "a5ce7127",
   "metadata": {},
   "outputs": [],
   "source": [
    "brin1=[0,2,3,7]"
   ]
  },
  {
   "cell_type": "code",
   "execution_count": 279,
   "id": "27620c7a",
   "metadata": {},
   "outputs": [
    {
     "data": {
      "text/plain": [
       "array([10,  8,  7,  3])"
      ]
     },
     "execution_count": 279,
     "metadata": {},
     "output_type": "execute_result"
    }
   ],
   "source": [
    "p[brin1]"
   ]
  },
  {
   "cell_type": "code",
   "execution_count": 283,
   "id": "22d3c3f3",
   "metadata": {},
   "outputs": [
    {
     "data": {
      "text/plain": [
       "array([[ 1,  6, 11, 11],\n",
       "       [10,  7,  2,  5],\n",
       "       [ 3,  8,  7,  9],\n",
       "       [ 5,  2, 10,  2]])"
      ]
     },
     "execution_count": 283,
     "metadata": {},
     "output_type": "execute_result"
    }
   ],
   "source": [
    "u=np.random.randint(12, size=(4,4))\n",
    "u                                                     #'Fancy  Index' give us choose high level element."
   ]
  },
  {
   "cell_type": "code",
   "execution_count": 286,
   "id": "3e161429",
   "metadata": {},
   "outputs": [],
   "source": [
    "row1=np.array([0,2])\n",
    "column1=np.array([1,3])"
   ]
  },
  {
   "cell_type": "code",
   "execution_count": 287,
   "id": "9c3505fc",
   "metadata": {},
   "outputs": [
    {
     "data": {
      "text/plain": [
       "array([6, 9])"
      ]
     },
     "execution_count": 287,
     "metadata": {},
     "output_type": "execute_result"
    }
   ],
   "source": [
    "u[row1, column1]"
   ]
  },
  {
   "cell_type": "code",
   "execution_count": 288,
   "id": "3e76e993",
   "metadata": {},
   "outputs": [
    {
     "data": {
      "text/plain": [
       "array([[ 1,  6, 11, 11],\n",
       "       [10,  7,  2,  5],\n",
       "       [ 3,  8,  7,  9],\n",
       "       [ 5,  2, 10,  2]])"
      ]
     },
     "execution_count": 288,
     "metadata": {},
     "output_type": "execute_result"
    }
   ],
   "source": [
    "u"
   ]
  },
  {
   "cell_type": "code",
   "execution_count": 289,
   "id": "f455e1e0",
   "metadata": {},
   "outputs": [
    {
     "data": {
      "text/plain": [
       "array([ 6, 11])"
      ]
     },
     "execution_count": 289,
     "metadata": {},
     "output_type": "execute_result"
    }
   ],
   "source": [
    "u[0, [1,2]]                                  #index + fancy index  "
   ]
  },
  {
   "cell_type": "code",
   "execution_count": 292,
   "id": "6d3bf7ea",
   "metadata": {},
   "outputs": [
    {
     "data": {
      "text/plain": [
       "array([[ 6, 11],\n",
       "       [ 7,  2],\n",
       "       [ 8,  7]])"
      ]
     },
     "execution_count": 292,
     "metadata": {},
     "output_type": "execute_result"
    }
   ],
   "source": [
    "u[:3, [1,2]]                               #slice + fancy index"
   ]
  },
  {
   "cell_type": "code",
   "execution_count": 293,
   "id": "8d9e1024",
   "metadata": {},
   "outputs": [
    {
     "data": {
      "text/plain": [
       "array([[ 6, 11],\n",
       "       [ 7,  2]])"
      ]
     },
     "execution_count": 293,
     "metadata": {},
     "output_type": "execute_result"
    }
   ],
   "source": [
    "u[:2, [1,2]]"
   ]
  },
  {
   "cell_type": "markdown",
   "id": "e9de4a44",
   "metadata": {},
   "source": [
    "#### If ####"
   ]
  },
  {
   "cell_type": "code",
   "execution_count": 307,
   "id": "c2c37f19",
   "metadata": {},
   "outputs": [
    {
     "data": {
      "text/plain": [
       "array([ 0,  2,  4,  6,  8, 10, 12, 14, 16, 18, 20, 22, 24, 26, 28])"
      ]
     },
     "execution_count": 307,
     "metadata": {},
     "output_type": "execute_result"
    }
   ],
   "source": [
    "v=np.arange(0,30,2)\n",
    "v"
   ]
  },
  {
   "cell_type": "code",
   "execution_count": 308,
   "id": "09435667",
   "metadata": {},
   "outputs": [
    {
     "data": {
      "text/plain": [
       "array([False, False, False, False, False, False, False, False, False,\n",
       "       False, False, False, False, False, False])"
      ]
     },
     "execution_count": 308,
     "metadata": {},
     "output_type": "execute_result"
    }
   ],
   "source": [
    "v<-1"
   ]
  },
  {
   "cell_type": "code",
   "execution_count": 309,
   "id": "49748cdd",
   "metadata": {},
   "outputs": [
    {
     "data": {
      "text/plain": [
       "array([False, False, False, False, False, False, False, False, False,\n",
       "       False, False, False, False, False, False])"
      ]
     },
     "execution_count": 309,
     "metadata": {},
     "output_type": "execute_result"
    }
   ],
   "source": [
    "v>100"
   ]
  },
  {
   "cell_type": "code",
   "execution_count": 310,
   "id": "dd7fc110",
   "metadata": {},
   "outputs": [
    {
     "data": {
      "text/plain": [
       "array([ True,  True,  True,  True,  True,  True,  True,  True, False,\n",
       "       False, False, False, False, False, False])"
      ]
     },
     "execution_count": 310,
     "metadata": {},
     "output_type": "execute_result"
    }
   ],
   "source": [
    "v<=15"
   ]
  },
  {
   "cell_type": "code",
   "execution_count": 311,
   "id": "4664b833",
   "metadata": {},
   "outputs": [
    {
     "data": {
      "text/plain": [
       "array([], dtype=int32)"
      ]
     },
     "execution_count": 311,
     "metadata": {},
     "output_type": "execute_result"
    }
   ],
   "source": [
    "v[v<-1]"
   ]
  },
  {
   "cell_type": "code",
   "execution_count": 312,
   "id": "c95e1e25",
   "metadata": {},
   "outputs": [
    {
     "data": {
      "text/plain": [
       "array([ 0,  2,  4,  6,  8, 10, 12, 14])"
      ]
     },
     "execution_count": 312,
     "metadata": {},
     "output_type": "execute_result"
    }
   ],
   "source": [
    "v[v<=15]"
   ]
  },
  {
   "cell_type": "code",
   "execution_count": 315,
   "id": "6341718e",
   "metadata": {},
   "outputs": [
    {
     "data": {
      "text/plain": [
       "array([18, 20, 22, 24, 26, 28])"
      ]
     },
     "execution_count": 315,
     "metadata": {},
     "output_type": "execute_result"
    }
   ],
   "source": [
    "v[v>=18]"
   ]
  },
  {
   "cell_type": "code",
   "execution_count": 316,
   "id": "77b66435",
   "metadata": {},
   "outputs": [
    {
     "data": {
      "text/plain": [
       "array([18])"
      ]
     },
     "execution_count": 316,
     "metadata": {},
     "output_type": "execute_result"
    }
   ],
   "source": [
    "v[v==18]"
   ]
  },
  {
   "cell_type": "code",
   "execution_count": 317,
   "id": "d6d5544e",
   "metadata": {},
   "outputs": [
    {
     "data": {
      "text/plain": [
       "array([ 0,  2,  4,  6,  8, 10, 12, 14, 16, 20, 22, 24, 26, 28])"
      ]
     },
     "execution_count": 317,
     "metadata": {},
     "output_type": "execute_result"
    }
   ],
   "source": [
    "v[v!=18]"
   ]
  },
  {
   "cell_type": "markdown",
   "id": "592a4e1d",
   "metadata": {},
   "source": [
    "#### Mathematical operations ####"
   ]
  },
  {
   "cell_type": "code",
   "execution_count": 320,
   "id": "988d0e71",
   "metadata": {},
   "outputs": [
    {
     "data": {
      "text/plain": [
       "array([0. , 0.4, 0.8, 1.2, 1.6, 2. , 2.4, 2.8, 3.2, 3.6, 4. , 4.4, 4.8,\n",
       "       5.2, 5.6])"
      ]
     },
     "execution_count": 320,
     "metadata": {},
     "output_type": "execute_result"
    }
   ],
   "source": [
    "v/5"
   ]
  },
  {
   "cell_type": "code",
   "execution_count": 321,
   "id": "b391a25b",
   "metadata": {},
   "outputs": [
    {
     "data": {
      "text/plain": [
       "array([  0,   4,  16,  36,  64, 100, 144, 196, 256, 324, 400, 484, 576,\n",
       "       676, 784], dtype=int32)"
      ]
     },
     "execution_count": 321,
     "metadata": {},
     "output_type": "execute_result"
    }
   ],
   "source": [
    "v**2"
   ]
  },
  {
   "cell_type": "code",
   "execution_count": 322,
   "id": "bf61c641",
   "metadata": {},
   "outputs": [
    {
     "data": {
      "text/plain": [
       "array([ 0,  4,  8, 12, 16, 20, 24, 28, 32, 36, 40, 44, 48, 52, 56])"
      ]
     },
     "execution_count": 322,
     "metadata": {},
     "output_type": "execute_result"
    }
   ],
   "source": [
    "v*2"
   ]
  },
  {
   "cell_type": "code",
   "execution_count": 323,
   "id": "00b7fa34",
   "metadata": {},
   "outputs": [
    {
     "data": {
      "text/plain": [
       "array([-1,  1,  3,  5,  7,  9, 11, 13, 15, 17, 19, 21, 23, 25, 27])"
      ]
     },
     "execution_count": 323,
     "metadata": {},
     "output_type": "execute_result"
    }
   ],
   "source": [
    "v-1"
   ]
  },
  {
   "cell_type": "code",
   "execution_count": null,
   "id": "b14024e9",
   "metadata": {},
   "outputs": [],
   "source": [
    "#### ufunc ####\n",
    "* add ----- Adding(+)\n",
    "* subtract -----Subtraction(-)\n",
    "* multiply -----Multiplication(*)\n",
    "* divide -----Division(/)\n",
    "* power -----**\n",
    "* mod --------Mod(%)\n",
    "* absolute -----Calculate pozitive from negative numbers ()\n",
    "* log------\n",
    "\n"
   ]
  },
  {
   "cell_type": "code",
   "execution_count": 324,
   "id": "18cf913a",
   "metadata": {},
   "outputs": [
    {
     "data": {
      "text/plain": [
       "array([ 0,  2,  4,  6,  8, 10, 12, 14, 16, 18, 20, 22, 24, 26, 28])"
      ]
     },
     "execution_count": 324,
     "metadata": {},
     "output_type": "execute_result"
    }
   ],
   "source": [
    "v"
   ]
  },
  {
   "cell_type": "code",
   "execution_count": 325,
   "id": "0ec4b529",
   "metadata": {},
   "outputs": [
    {
     "data": {
      "text/plain": [
       "array([ 5,  7,  9, 11, 13, 15, 17, 19, 21, 23, 25, 27, 29, 31, 33])"
      ]
     },
     "execution_count": 325,
     "metadata": {},
     "output_type": "execute_result"
    }
   ],
   "source": [
    "np.add(v, 5)"
   ]
  },
  {
   "cell_type": "code",
   "execution_count": 348,
   "id": "312b3299",
   "metadata": {},
   "outputs": [
    {
     "data": {
      "text/plain": [
       "array([ 5,  7,  9, 11, 13, 15, 17, 19, 21, 23, 25, 27, 29, 31, 33])"
      ]
     },
     "execution_count": 348,
     "metadata": {},
     "output_type": "execute_result"
    }
   ],
   "source": [
    "v+5"
   ]
  },
  {
   "cell_type": "code",
   "execution_count": 326,
   "id": "d0c27ecd",
   "metadata": {},
   "outputs": [
    {
     "data": {
      "text/plain": [
       "array([-1,  1,  3,  5,  7,  9, 11, 13, 15, 17, 19, 21, 23, 25, 27])"
      ]
     },
     "execution_count": 326,
     "metadata": {},
     "output_type": "execute_result"
    }
   ],
   "source": [
    "np.subtract(v, 1)"
   ]
  },
  {
   "cell_type": "code",
   "execution_count": 349,
   "id": "dbbfc7c0",
   "metadata": {},
   "outputs": [
    {
     "data": {
      "text/plain": [
       "array([-1,  1,  3,  5,  7,  9, 11, 13, 15, 17, 19, 21, 23, 25, 27])"
      ]
     },
     "execution_count": 349,
     "metadata": {},
     "output_type": "execute_result"
    }
   ],
   "source": [
    "v-1"
   ]
  },
  {
   "cell_type": "code",
   "execution_count": 327,
   "id": "7693a63f",
   "metadata": {},
   "outputs": [
    {
     "data": {
      "text/plain": [
       "array([ 0,  4,  8, 12, 16, 20, 24, 28, 32, 36, 40, 44, 48, 52, 56])"
      ]
     },
     "execution_count": 327,
     "metadata": {},
     "output_type": "execute_result"
    }
   ],
   "source": [
    "np.multiply(v, 2)"
   ]
  },
  {
   "cell_type": "code",
   "execution_count": 350,
   "id": "ab900c16",
   "metadata": {},
   "outputs": [
    {
     "data": {
      "text/plain": [
       "array([ 0,  4,  8, 12, 16, 20, 24, 28, 32, 36, 40, 44, 48, 52, 56])"
      ]
     },
     "execution_count": 350,
     "metadata": {},
     "output_type": "execute_result"
    }
   ],
   "source": [
    "v*2"
   ]
  },
  {
   "cell_type": "code",
   "execution_count": 328,
   "id": "2173dcfa",
   "metadata": {},
   "outputs": [
    {
     "data": {
      "text/plain": [
       "array([ 0.,  1.,  2.,  3.,  4.,  5.,  6.,  7.,  8.,  9., 10., 11., 12.,\n",
       "       13., 14.])"
      ]
     },
     "execution_count": 328,
     "metadata": {},
     "output_type": "execute_result"
    }
   ],
   "source": [
    "np.divide(v,2)"
   ]
  },
  {
   "cell_type": "code",
   "execution_count": 351,
   "id": "8da913d2",
   "metadata": {},
   "outputs": [
    {
     "data": {
      "text/plain": [
       "array([ 0.,  1.,  2.,  3.,  4.,  5.,  6.,  7.,  8.,  9., 10., 11., 12.,\n",
       "       13., 14.])"
      ]
     },
     "execution_count": 351,
     "metadata": {},
     "output_type": "execute_result"
    }
   ],
   "source": [
    "v/2"
   ]
  },
  {
   "cell_type": "code",
   "execution_count": 329,
   "id": "8438be63",
   "metadata": {},
   "outputs": [
    {
     "data": {
      "text/plain": [
       "array([  0,   4,  16,  36,  64, 100, 144, 196, 256, 324, 400, 484, 576,\n",
       "       676, 784], dtype=int32)"
      ]
     },
     "execution_count": 329,
     "metadata": {},
     "output_type": "execute_result"
    }
   ],
   "source": [
    "np.power(v, 2)"
   ]
  },
  {
   "cell_type": "code",
   "execution_count": 352,
   "id": "ef3331b5",
   "metadata": {},
   "outputs": [
    {
     "data": {
      "text/plain": [
       "array([  0,   4,  16,  36,  64, 100, 144, 196, 256, 324, 400, 484, 576,\n",
       "       676, 784], dtype=int32)"
      ]
     },
     "execution_count": 352,
     "metadata": {},
     "output_type": "execute_result"
    }
   ],
   "source": [
    "v**2"
   ]
  },
  {
   "cell_type": "code",
   "execution_count": 330,
   "id": "069c72cd",
   "metadata": {},
   "outputs": [
    {
     "data": {
      "text/plain": [
       "array([    0,     8,    64,   216,   512,  1000,  1728,  2744,  4096,\n",
       "        5832,  8000, 10648, 13824, 17576, 21952], dtype=int32)"
      ]
     },
     "execution_count": 330,
     "metadata": {},
     "output_type": "execute_result"
    }
   ],
   "source": [
    "np.power(v, 3)"
   ]
  },
  {
   "cell_type": "code",
   "execution_count": 331,
   "id": "b48dcaa0",
   "metadata": {},
   "outputs": [
    {
     "data": {
      "text/plain": [
       "array([0, 2, 1, 0, 2, 1, 0, 2, 1, 0, 2, 1, 0, 2, 1], dtype=int32)"
      ]
     },
     "execution_count": 331,
     "metadata": {},
     "output_type": "execute_result"
    }
   ],
   "source": [
    "np.mod(v, 3)"
   ]
  },
  {
   "cell_type": "code",
   "execution_count": 353,
   "id": "2ecc5c60",
   "metadata": {},
   "outputs": [
    {
     "data": {
      "text/plain": [
       "array([0, 2, 1, 0, 2, 1, 0, 2, 1, 0, 2, 1, 0, 2, 1], dtype=int32)"
      ]
     },
     "execution_count": 353,
     "metadata": {},
     "output_type": "execute_result"
    }
   ],
   "source": [
    "v%3"
   ]
  },
  {
   "cell_type": "code",
   "execution_count": 341,
   "id": "23fdc2db",
   "metadata": {},
   "outputs": [
    {
     "data": {
      "text/plain": [
       "array([1])"
      ]
     },
     "execution_count": 341,
     "metadata": {},
     "output_type": "execute_result"
    }
   ],
   "source": [
    "np.absolute([-1])"
   ]
  },
  {
   "cell_type": "code",
   "execution_count": 347,
   "id": "d08e35d8",
   "metadata": {},
   "outputs": [
    {
     "data": {
      "text/plain": [
       "array([3])"
      ]
     },
     "execution_count": 347,
     "metadata": {},
     "output_type": "execute_result"
    }
   ],
   "source": [
    "np.absolute(np.array([-3]))"
   ]
  },
  {
   "cell_type": "code",
   "execution_count": 355,
   "id": "f32dd941",
   "metadata": {},
   "outputs": [
    {
     "data": {
      "text/plain": [
       "0.9589157234143065"
      ]
     },
     "execution_count": 355,
     "metadata": {},
     "output_type": "execute_result"
    }
   ],
   "source": [
    "np.sin(360)"
   ]
  },
  {
   "cell_type": "code",
   "execution_count": 356,
   "id": "b1ff5c86",
   "metadata": {},
   "outputs": [
    {
     "data": {
      "text/plain": [
       "-0.2836910914865273"
      ]
     },
     "execution_count": 356,
     "metadata": {},
     "output_type": "execute_result"
    }
   ],
   "source": [
    "np.cos(360)"
   ]
  },
  {
   "cell_type": "code",
   "execution_count": 359,
   "id": "1a3c88f0",
   "metadata": {},
   "outputs": [],
   "source": [
    "ı=np.array([5,55,45,852])"
   ]
  },
  {
   "cell_type": "code",
   "execution_count": 360,
   "id": "a8689b65",
   "metadata": {},
   "outputs": [
    {
     "data": {
      "text/plain": [
       "array([1.60943791, 4.00733319, 3.80666249, 6.74758653])"
      ]
     },
     "execution_count": 360,
     "metadata": {},
     "output_type": "execute_result"
    }
   ],
   "source": [
    "np.log(ı)"
   ]
  },
  {
   "cell_type": "code",
   "execution_count": 362,
   "id": "ccfd6be5",
   "metadata": {},
   "outputs": [
    {
     "data": {
      "text/plain": [
       "array([0.69897   , 1.74036269, 1.65321251, 2.93043959])"
      ]
     },
     "execution_count": 362,
     "metadata": {},
     "output_type": "execute_result"
    }
   ],
   "source": [
    "np.log10(ı)"
   ]
  },
  {
   "cell_type": "code",
   "execution_count": 363,
   "id": "da73a0f0",
   "metadata": {},
   "outputs": [
    {
     "data": {
      "text/plain": [
       "array([[ 1,  6, 11, 11],\n",
       "       [10,  7,  2,  5],\n",
       "       [ 3,  8,  7,  9],\n",
       "       [ 5,  2, 10,  2]])"
      ]
     },
     "execution_count": 363,
     "metadata": {},
     "output_type": "execute_result"
    }
   ],
   "source": [
    "u"
   ]
  },
  {
   "cell_type": "code",
   "execution_count": 365,
   "id": "a4ecf7ef",
   "metadata": {},
   "outputs": [
    {
     "data": {
      "text/plain": [
       "array([[0.        , 0.77815125, 1.04139269, 1.04139269],\n",
       "       [1.        , 0.84509804, 0.30103   , 0.69897   ],\n",
       "       [0.47712125, 0.90308999, 0.84509804, 0.95424251],\n",
       "       [0.69897   , 0.30103   , 1.        , 0.30103   ]])"
      ]
     },
     "execution_count": 365,
     "metadata": {},
     "output_type": "execute_result"
    }
   ],
   "source": [
    "np.log10(u)"
   ]
  },
  {
   "cell_type": "code",
   "execution_count": 369,
   "id": "173a0420",
   "metadata": {},
   "outputs": [
    {
     "data": {
      "text/plain": [
       "6.1875"
      ]
     },
     "execution_count": 369,
     "metadata": {},
     "output_type": "execute_result"
    }
   ],
   "source": [
    "np.mean(u)"
   ]
  },
  {
   "cell_type": "code",
   "execution_count": 371,
   "id": "f68bce58",
   "metadata": {},
   "outputs": [
    {
     "data": {
      "text/plain": [
       "array([4.75, 5.75, 7.5 , 6.75])"
      ]
     },
     "execution_count": 371,
     "metadata": {},
     "output_type": "execute_result"
    }
   ],
   "source": [
    "np.mean(u, axis=0)"
   ]
  },
  {
   "cell_type": "code",
   "execution_count": 372,
   "id": "4402e32a",
   "metadata": {},
   "outputs": [
    {
     "data": {
      "text/plain": [
       "array([7.25, 6.  , 6.75, 4.75])"
      ]
     },
     "execution_count": 372,
     "metadata": {},
     "output_type": "execute_result"
    }
   ],
   "source": [
    "np.mean(u, axis=1)"
   ]
  },
  {
   "cell_type": "code",
   "execution_count": 377,
   "id": "f46d5c3c",
   "metadata": {},
   "outputs": [
    {
     "data": {
      "text/plain": [
       "11.27734375"
      ]
     },
     "execution_count": 377,
     "metadata": {},
     "output_type": "execute_result"
    }
   ],
   "source": [
    "np.var(u)"
   ]
  },
  {
   "cell_type": "code",
   "execution_count": 378,
   "id": "2dcf18b4",
   "metadata": {},
   "outputs": [
    {
     "data": {
      "text/plain": [
       "3.358175658002422"
      ]
     },
     "execution_count": 378,
     "metadata": {},
     "output_type": "execute_result"
    }
   ],
   "source": [
    "np.std(u)"
   ]
  },
  {
   "cell_type": "code",
   "execution_count": 380,
   "id": "8a638fdf",
   "metadata": {},
   "outputs": [
    {
     "data": {
      "text/plain": [
       "array([[ 1.        , -0.93075784,  0.82737924,  0.20751434],\n",
       "       [-0.93075784,  1.        , -0.64003012, -0.52459298],\n",
       "       [ 0.82737924, -0.64003012,  1.        , -0.31057366],\n",
       "       [ 0.20751434, -0.52459298, -0.31057366,  1.        ]])"
      ]
     },
     "execution_count": 380,
     "metadata": {},
     "output_type": "execute_result"
    }
   ],
   "source": [
    "np.corrcoef(u)"
   ]
  },
  {
   "cell_type": "code",
   "execution_count": 373,
   "id": "b5b5bd3b",
   "metadata": {},
   "outputs": [
    {
     "data": {
      "text/plain": [
       "99"
      ]
     },
     "execution_count": 373,
     "metadata": {},
     "output_type": "execute_result"
    }
   ],
   "source": [
    "u.sum()"
   ]
  },
  {
   "cell_type": "code",
   "execution_count": 374,
   "id": "2439fc0a",
   "metadata": {},
   "outputs": [
    {
     "data": {
      "text/plain": [
       "1"
      ]
     },
     "execution_count": 374,
     "metadata": {},
     "output_type": "execute_result"
    }
   ],
   "source": [
    "u.min()"
   ]
  },
  {
   "cell_type": "code",
   "execution_count": 375,
   "id": "f39bbb9c",
   "metadata": {},
   "outputs": [
    {
     "data": {
      "text/plain": [
       "11"
      ]
     },
     "execution_count": 375,
     "metadata": {},
     "output_type": "execute_result"
    }
   ],
   "source": [
    "u.max()"
   ]
  },
  {
   "cell_type": "markdown",
   "id": "708e1e52",
   "metadata": {},
   "source": [
    "* 51*x1+x2=12\n",
    "* x1+3*x2=100"
   ]
  },
  {
   "cell_type": "code",
   "execution_count": 388,
   "id": "36ca3793",
   "metadata": {},
   "outputs": [],
   "source": [
    "a=np.array([[51,1],[1,3]])"
   ]
  },
  {
   "cell_type": "code",
   "execution_count": 389,
   "id": "1fbba104",
   "metadata": {},
   "outputs": [],
   "source": [
    "b=np.array([12,100])"
   ]
  },
  {
   "cell_type": "code",
   "execution_count": 390,
   "id": "56d73cd8",
   "metadata": {},
   "outputs": [
    {
     "data": {
      "text/plain": [
       "array([-0.42105263, 33.47368421])"
      ]
     },
     "execution_count": 390,
     "metadata": {},
     "output_type": "execute_result"
    }
   ],
   "source": [
    "s=np.linalg.solve(a, b)\n",
    "s"
   ]
  },
  {
   "cell_type": "markdown",
   "id": "b409ac7c",
   "metadata": {},
   "source": [
    "* 8*x3+12*x2+x1=52\n",
    "* 13*x2+2*x1+14*x3=41\n",
    "* x1+x2+x3=11"
   ]
  },
  {
   "cell_type": "code",
   "execution_count": 396,
   "id": "0f92da43",
   "metadata": {},
   "outputs": [],
   "source": [
    "l=np.array([[8,12,1],[2,13,1],[1,1,1]])"
   ]
  },
  {
   "cell_type": "code",
   "execution_count": 397,
   "id": "ef9ce7df",
   "metadata": {},
   "outputs": [],
   "source": [
    "o=np.array([12,100,11])"
   ]
  },
  {
   "cell_type": "code",
   "execution_count": 399,
   "id": "d5e3ecf7",
   "metadata": {},
   "outputs": [
    {
     "data": {
      "text/plain": [
       "array([-13.24657534,   8.52054795,  15.7260274 ])"
      ]
     },
     "execution_count": 399,
     "metadata": {},
     "output_type": "execute_result"
    }
   ],
   "source": [
    "k=np.linalg.solve(l, o)\n",
    "k"
   ]
  },
  {
   "cell_type": "code",
   "execution_count": null,
   "id": "a81ac5cb",
   "metadata": {},
   "outputs": [],
   "source": []
  }
 ],
 "metadata": {
  "kernelspec": {
   "display_name": "Python 3",
   "language": "python",
   "name": "python3"
  },
  "language_info": {
   "codemirror_mode": {
    "name": "ipython",
    "version": 3
   },
   "file_extension": ".py",
   "mimetype": "text/x-python",
   "name": "python",
   "nbconvert_exporter": "python",
   "pygments_lexer": "ipython3",
   "version": "3.7.0"
  }
 },
 "nbformat": 4,
 "nbformat_minor": 5
}
